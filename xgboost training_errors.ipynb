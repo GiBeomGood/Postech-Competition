{
 "cells": [
  {
   "cell_type": "code",
   "execution_count": 1,
   "metadata": {},
   "outputs": [],
   "source": [
    "import pandas as pd\n",
    "import numpy as np\n",
    "\n",
    "import xgboost as xgb\n",
    "from xgboost import cv as xgboost_cv\n",
    "from xgboost import train as xgboost_train\n",
    "from sklearn.metrics import r2_score\n",
    "\n",
    "from tqdm import tqdm\n",
    "from itertools import product\n",
    "import pickle\n"
   ]
  },
  {
   "cell_type": "code",
   "execution_count": 2,
   "metadata": {},
   "outputs": [],
   "source": [
    "gens = pd.read_csv('data/gens.csv').amount.values\n",
    "\n",
    "train_2 = pd.read_csv('data/weather_forecast.csv')\n",
    "train_1 = train_2.loc[train_2['round']==1, :].copy()\n",
    "train_2 = train_2.loc[train_2['round']==2, :].reset_index(drop=True)\n",
    "\n",
    "pred_2 = pd.read_csv('data/pred.csv')\n",
    "pred_1 = pred_2.loc[pred_2['round']==1, :].copy()\n",
    "pred_2 = pred_2.loc[pred_2['round']==2, :].reset_index(drop=True)\n",
    "pred_1_matrix = pred_1.amount.values.reshape(train_1.shape[0], 5)"
   ]
  },
  {
   "cell_type": "code",
   "execution_count": 3,
   "metadata": {},
   "outputs": [],
   "source": [
    "train_1 = train_1.drop(columns=['round', 'time']).values\n",
    "train_1 = np.concatenate([train_1, pred_1_matrix], axis=1)"
   ]
  },
  {
   "cell_type": "code",
   "execution_count": 4,
   "metadata": {},
   "outputs": [],
   "source": [
    "for i in range(5):\n",
    "    errors = np.abs(gens - pred_1_matrix[:, i]) / 99.0 * 100\n",
    "    errors = errors.reshape(-1, 1)\n",
    "    train_1 = np.concatenate([train_1, errors], axis=1)"
   ]
  },
  {
   "cell_type": "code",
   "execution_count": 5,
   "metadata": {},
   "outputs": [],
   "source": [
    "def grid_search_xgb(params_default, dtrain):\n",
    "    param_grid = {\n",
    "        'max_depth': [3, 4, 5, 6],\n",
    "        'colsample_bylevel': [0.9, 1.0],\n",
    "        'colsample_bynode': [0.9, 1.0],\n",
    "        'gamma': [0, 0.1, 0.01],\n",
    "        'alpha': [0, 0.1, 0.01],\n",
    "        'lambda': [0, 0.1, 0.01],\n",
    "    }\n",
    "\n",
    "    params_names = param_grid.keys()\n",
    "    best_score_ = np.inf\n",
    "\n",
    "    for params_train in tqdm(list(product(*param_grid.values()))):\n",
    "        params_train = dict(zip(params_names, params_train))\n",
    "        params = dict(params_default, **params_train)\n",
    "        cv_log = xgboost_cv(params=params, dtrain=dtrain, nfold=5, num_boost_round=200, early_stopping_rounds=10).mean(axis=0)\n",
    "        cv_score = cv_log['test-mae-mean']\n",
    "\n",
    "        if cv_score < best_score_:\n",
    "            best_score_ = cv_score\n",
    "            best_params_ = params\n",
    "    \n",
    "    return best_params_, best_score_"
   ]
  },
  {
   "cell_type": "code",
   "execution_count": 6,
   "metadata": {},
   "outputs": [
    {
     "name": "stderr",
     "output_type": "stream",
     "text": [
      "100%|██████████| 432/432 [30:29<00:00,  4.24s/it]"
     ]
    },
    {
     "name": "stdout",
     "output_type": "stream",
     "text": [
      "{'tree_method': 'hist', 'device': 'cuda', 'eval_metric': 'mae', 'objective': 'reg:absoluteerror', 'verbosity': 0, 'max_depth': 6, 'colsample_bylevel': 0.9, 'colsample_bynode': 0.9, 'gamma': 0.1, 'alpha': 0.1, 'lambda': 0}\n"
     ]
    },
    {
     "name": "stderr",
     "output_type": "stream",
     "text": [
      "\n"
     ]
    }
   ],
   "source": [
    "params_default = {\n",
    "    'tree_method': 'hist',\n",
    "    'device': 'cuda',\n",
    "    'eval_metric': 'mae',\n",
    "    'objective': 'reg:absoluteerror',\n",
    "    'verbosity': 0,\n",
    "}\n",
    "\n",
    "dtrain = xgb.DMatrix(train_1[:-168], gens[:-168])\n",
    "dtest = xgb.DMatrix(train_1[-168:], gens[-168:])\n",
    "\n",
    "best_params_, best_score_ = grid_search_xgb(params_default, dtrain)\n",
    "print(best_params_)"
   ]
  },
  {
   "cell_type": "code",
   "execution_count": 7,
   "metadata": {},
   "outputs": [
    {
     "name": "stdout",
     "output_type": "stream",
     "text": [
      "r2 score: 0.9580\n"
     ]
    }
   ],
   "source": [
    "params = dict(params_default, **best_params_)\n",
    "best_model = xgboost_train(params, dtrain, num_boost_round=200)\n",
    "\n",
    "y_pred = best_model.predict(dtest)\n",
    "r2 = r2_score(gens[-168:], y_pred)\n",
    "print(f'r2 score: {r2:6.4f}')"
   ]
  },
  {
   "cell_type": "code",
   "execution_count": 8,
   "metadata": {},
   "outputs": [],
   "source": [
    "with open('checkpoints/weather+pred+error_prediction.xgb', 'wb') as f:\n",
    "    pickle.dump(best_model, f)"
   ]
  }
 ],
 "metadata": {
  "kernelspec": {
   "display_name": "kwon",
   "language": "python",
   "name": "python3"
  },
  "language_info": {
   "codemirror_mode": {
    "name": "ipython",
    "version": 3
   },
   "file_extension": ".py",
   "mimetype": "text/x-python",
   "name": "python",
   "nbconvert_exporter": "python",
   "pygments_lexer": "ipython3",
   "version": "3.12.0"
  }
 },
 "nbformat": 4,
 "nbformat_minor": 2
}
