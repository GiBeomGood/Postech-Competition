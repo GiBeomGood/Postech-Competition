{
 "cells": [
  {
   "cell_type": "markdown",
   "metadata": {},
   "source": [
    "# Data Preparation"
   ]
  },
  {
   "cell_type": "code",
   "execution_count": 1,
   "metadata": {},
   "outputs": [],
   "source": [
    "import numpy as np\n",
    "import pandas as pd"
   ]
  },
  {
   "cell_type": "code",
   "execution_count": 2,
   "metadata": {},
   "outputs": [],
   "source": [
    "gens = pd.read_csv('data/gens.csv').amount.values.reshape(-1, 1)  # ~2023. 10. 16. 00:00\n",
    "pred = pd.read_csv('data/pred.csv')\n",
    "pred = pred.loc[pred['round']==1, :].amount  # ~2023. 10. 16. 00:00\n",
    "pred = pred.values.reshape(-1, 5)\n",
    "errors = np.abs(gens-pred) / 99.0 * 100"
   ]
  },
  {
   "cell_type": "code",
   "execution_count": 3,
   "metadata": {},
   "outputs": [
    {
     "data": {
      "text/plain": [
       "1080    2023-10-26T01:00:00+09:00\n",
       "1081    2023-10-26T01:00:00+09:00\n",
       "1082    2023-10-26T01:00:00+09:00\n",
       "1083    2023-10-26T01:00:00+09:00\n",
       "1084    2023-10-26T01:00:00+09:00\n",
       "                  ...            \n",
       "1195    2023-10-27T00:00:00+09:00\n",
       "1196    2023-10-27T00:00:00+09:00\n",
       "1197    2023-10-27T00:00:00+09:00\n",
       "1198    2023-10-27T00:00:00+09:00\n",
       "1199    2023-10-27T00:00:00+09:00\n",
       "Name: time, Length: 120, dtype: object"
      ]
     },
     "metadata": {},
     "output_type": "display_data"
    }
   ],
   "source": [
    "errors_after = pd.read_csv('data/bid_results.csv').sort_values(by=['time', 'Model']).reset_index(drop=True)  # 10. 17. 01:00~10. 27. 00:00\n",
    "display(errors_after.time[-120:])\n",
    "errors_after = errors_after.error.values\n",
    "errors_after = errors_after.reshape(-1, 5)\n",
    "errors_test = errors_after[-24:, :].copy()  # 10. 26. 01:00~10. 27. 00:00 (24 hours)\n",
    "errors_after = errors_after[:-24, :]  # ~10. 26. 00:00"
   ]
  },
  {
   "cell_type": "code",
   "execution_count": 4,
   "metadata": {},
   "outputs": [
    {
     "data": {
      "text/plain": [
       "(11832, 5)"
      ]
     },
     "execution_count": 4,
     "metadata": {},
     "output_type": "execute_result"
    }
   ],
   "source": [
    "errors = np.concatenate([errors, errors_after], axis=0)\n",
    "del errors_after\n",
    "errors.shape"
   ]
  },
  {
   "cell_type": "markdown",
   "metadata": {},
   "source": [
    "# Modeling"
   ]
  },
  {
   "cell_type": "markdown",
   "metadata": {},
   "source": [
    "## Ready"
   ]
  },
  {
   "cell_type": "code",
   "execution_count": 5,
   "metadata": {},
   "outputs": [],
   "source": [
    "import torch\n",
    "from torch import nn, FloatTensor\n",
    "device = torch.device('cuda')\n",
    "from tools.DLinear import Model as Dlinear\n",
    "from tools.RegressionTrainingTools import Trainer\n",
    "from torch.utils.data import Dataset, DataLoader"
   ]
  },
  {
   "cell_type": "code",
   "execution_count": 6,
   "metadata": {},
   "outputs": [],
   "source": [
    "class CustomDataset(Dataset):\n",
    "    def __init__(self, data, window_size, forecast_size):\n",
    "        super().__init__()\n",
    "\n",
    "        self.x = []; x_append = self.x.append\n",
    "        self.y = []; y_append = self.y.append\n",
    "        self.length = data.shape[0] - window_size - forecast_size + 1\n",
    "\n",
    "        for i in range(self.length):\n",
    "            x_append(FloatTensor(data[i:i+window_size, :]))\n",
    "            y_append(FloatTensor(data[i+window_size:i+window_size+forecast_size, :]))\n",
    "    \n",
    "        return\n",
    "    \n",
    "\n",
    "    def __len__(self):\n",
    "        return self.length\n",
    "    \n",
    "\n",
    "    def __getitem__(self, index):\n",
    "        return self.x[index], self.y[index]"
   ]
  },
  {
   "cell_type": "code",
   "execution_count": 7,
   "metadata": {},
   "outputs": [],
   "source": [
    "train_dataset = CustomDataset(errors[:-96, :], window_size=72, forecast_size=48)\n",
    "val_dataset = CustomDataset(errors[-96-72-48+1:, :], window_size=72, forecast_size=48)\n",
    "train_loader = DataLoader(train_dataset, batch_size=32, shuffle=True)\n",
    "val_loader = DataLoader(val_dataset, batch_size=512, shuffle=False)\n",
    "\n",
    "errors_test_x = torch.FloatTensor(errors[-96:, :]).reshape(1, 96, 5).to(device)"
   ]
  },
  {
   "cell_type": "code",
   "execution_count": 8,
   "metadata": {},
   "outputs": [],
   "source": [
    "class Config:\n",
    "    def __init__(self, seq_len=10, pred_len=2, individual=True, enc_in=10):\n",
    "        self.seq_len = seq_len\n",
    "        self.pred_len = pred_len\n",
    "        self.individual = individual\n",
    "        self.enc_in = enc_in  # channels\n",
    "        return\n",
    "\n",
    "configs = Config(seq_len=72, pred_len=48, individual=True, enc_in=5)\n",
    "model = Dlinear(configs).to(device)"
   ]
  },
  {
   "cell_type": "markdown",
   "metadata": {},
   "source": [
    "## Training Process"
   ]
  },
  {
   "cell_type": "code",
   "execution_count": 9,
   "metadata": {},
   "outputs": [
    {
     "name": "stderr",
     "output_type": "stream",
     "text": [
      "Epoch  0: 100%|██████████| 364/364 [00:02<00:00, 166.97it/s, Train Loss=103.1000, Valid Loss=41.1251, Valid R2=0.0000, Valid MAE=4.5370]\n",
      "Epoch  1: 100%|██████████| 364/364 [00:01<00:00, 266.59it/s, Train Loss=72.0946, Valid Loss=36.5168, Valid R2=0.0000, Valid MAE=4.2527]\n",
      "Epoch  2: 100%|██████████| 364/364 [00:01<00:00, 259.17it/s, Train Loss=67.2022, Valid Loss=34.8100, Valid R2=0.0000, Valid MAE=4.0942]\n",
      "Epoch  3: 100%|██████████| 364/364 [00:01<00:00, 265.94it/s, Train Loss=64.8382, Valid Loss=33.5923, Valid R2=0.0000, Valid MAE=3.9842]\n",
      "Epoch  4: 100%|██████████| 364/364 [00:01<00:00, 257.19it/s, Train Loss=63.4120, Valid Loss=32.8953, Valid R2=0.0000, Valid MAE=3.8768]\n",
      "Epoch  5: 100%|██████████| 364/364 [00:01<00:00, 268.14it/s, Train Loss=62.4421, Valid Loss=32.1016, Valid R2=0.0000, Valid MAE=3.7868]\n",
      "Epoch  6: 100%|██████████| 364/364 [00:01<00:00, 269.98it/s, Train Loss=61.5964, Valid Loss=31.6231, Valid R2=0.0000, Valid MAE=3.7327]\n",
      "Epoch  7: 100%|██████████| 364/364 [00:01<00:00, 275.50it/s, Train Loss=61.0641, Valid Loss=31.2838, Valid R2=0.0000, Valid MAE=3.6670]\n",
      "Epoch  8: 100%|██████████| 364/364 [00:01<00:00, 275.84it/s, Train Loss=60.6157, Valid Loss=30.9629, Valid R2=0.0000, Valid MAE=3.6142]\n",
      "Epoch  9: 100%|██████████| 364/364 [00:01<00:00, 264.75it/s, Train Loss=60.5727, Valid Loss=30.6671, Valid R2=0.0000, Valid MAE=3.5834]\n",
      "Epoch 10: 100%|██████████| 364/364 [00:01<00:00, 264.60it/s, Train Loss=59.9870, Valid Loss=30.4464, Valid R2=0.0000, Valid MAE=3.5475]\n",
      "Epoch 11: 100%|██████████| 364/364 [00:01<00:00, 262.75it/s, Train Loss=59.8323, Valid Loss=30.1890, Valid R2=0.0000, Valid MAE=3.5074]\n",
      "Epoch 12: 100%|██████████| 364/364 [00:01<00:00, 264.66it/s, Train Loss=59.6295, Valid Loss=30.0331, Valid R2=0.0000, Valid MAE=3.4865]\n",
      "Epoch 13: 100%|██████████| 364/364 [00:01<00:00, 267.19it/s, Train Loss=59.3846, Valid Loss=29.9862, Valid R2=0.0000, Valid MAE=3.4562]\n",
      "Epoch 14: 100%|██████████| 364/364 [00:01<00:00, 269.68it/s, Train Loss=59.2234, Valid Loss=29.8259, Valid R2=0.0000, Valid MAE=3.4298]\n",
      "Epoch 15: 100%|██████████| 364/364 [00:01<00:00, 266.08it/s, Train Loss=58.9879, Valid Loss=29.6581, Valid R2=0.0000, Valid MAE=3.4130]\n",
      "Epoch 16: 100%|██████████| 364/364 [00:01<00:00, 269.90it/s, Train Loss=58.9303, Valid Loss=29.6672, Valid R2=0.0000, Valid MAE=3.4054]\n",
      "Epoch 17: 100%|██████████| 364/364 [00:01<00:00, 271.55it/s, Train Loss=58.8601, Valid Loss=29.5489, Valid R2=0.0000, Valid MAE=3.4025]\n",
      "Epoch 18: 100%|██████████| 364/364 [00:01<00:00, 268.89it/s, Train Loss=58.7898, Valid Loss=29.3634, Valid R2=0.0000, Valid MAE=3.3802]\n",
      "Epoch 19: 100%|██████████| 364/364 [00:01<00:00, 271.56it/s, Train Loss=58.5984, Valid Loss=29.2652, Valid R2=0.0000, Valid MAE=3.3617]\n",
      "Epoch 20: 100%|██████████| 364/364 [00:01<00:00, 272.50it/s, Train Loss=58.5464, Valid Loss=29.2262, Valid R2=0.0000, Valid MAE=3.3375]\n",
      "Epoch 21: 100%|██████████| 364/364 [00:01<00:00, 271.05it/s, Train Loss=58.4491, Valid Loss=29.2280, Valid R2=0.0000, Valid MAE=3.3491]\n",
      "Epoch 22: 100%|██████████| 364/364 [00:01<00:00, 274.12it/s, Train Loss=58.4352, Valid Loss=29.1847, Valid R2=0.0000, Valid MAE=3.3228]\n",
      "Epoch 23: 100%|██████████| 364/364 [00:01<00:00, 270.55it/s, Train Loss=58.3574, Valid Loss=29.0450, Valid R2=0.0000, Valid MAE=3.3065]\n",
      "Epoch 24: 100%|██████████| 364/364 [00:01<00:00, 271.57it/s, Train Loss=58.2465, Valid Loss=28.9807, Valid R2=0.0000, Valid MAE=3.3096]\n",
      "Epoch 25: 100%|██████████| 364/364 [00:01<00:00, 269.81it/s, Train Loss=58.1790, Valid Loss=29.0860, Valid R2=0.0000, Valid MAE=3.3101]\n",
      "Epoch 26: 100%|██████████| 364/364 [00:01<00:00, 272.38it/s, Train Loss=58.1470, Valid Loss=29.0125, Valid R2=0.0000, Valid MAE=3.3115]\n",
      "Epoch 27: 100%|██████████| 364/364 [00:01<00:00, 271.38it/s, Train Loss=58.1237, Valid Loss=28.8913, Valid R2=0.0000, Valid MAE=3.3065]\n",
      "Epoch 28: 100%|██████████| 364/364 [00:01<00:00, 269.75it/s, Train Loss=58.0769, Valid Loss=29.0160, Valid R2=0.0000, Valid MAE=3.3000]\n",
      "Epoch 29: 100%|██████████| 364/364 [00:01<00:00, 267.65it/s, Train Loss=58.0493, Valid Loss=28.9029, Valid R2=0.0000, Valid MAE=3.2852]\n",
      "Epoch 30: 100%|██████████| 364/364 [00:01<00:00, 268.79it/s, Train Loss=57.9925, Valid Loss=28.9236, Valid R2=0.0000, Valid MAE=3.2838]\n",
      "Epoch 31: 100%|██████████| 364/364 [00:01<00:00, 270.67it/s, Train Loss=57.9164, Valid Loss=28.9179, Valid R2=0.0000, Valid MAE=3.2779]\n",
      "Epoch 32: 100%|██████████| 364/364 [00:01<00:00, 270.10it/s, Train Loss=57.9145, Valid Loss=28.7959, Valid R2=0.0000, Valid MAE=3.2668]\n",
      "Epoch 33: 100%|██████████| 364/364 [00:01<00:00, 270.96it/s, Train Loss=57.9127, Valid Loss=28.7623, Valid R2=0.0000, Valid MAE=3.2648]\n",
      "Epoch 34: 100%|██████████| 364/364 [00:01<00:00, 265.39it/s, Train Loss=57.8983, Valid Loss=28.7395, Valid R2=0.0000, Valid MAE=3.2746]\n",
      "Epoch 35: 100%|██████████| 364/364 [00:01<00:00, 268.79it/s, Train Loss=57.8079, Valid Loss=28.8627, Valid R2=0.0000, Valid MAE=3.2703]\n",
      "Epoch 36: 100%|██████████| 364/364 [00:01<00:00, 270.65it/s, Train Loss=57.9122, Valid Loss=28.6611, Valid R2=0.0000, Valid MAE=3.2611]\n",
      "Epoch 37: 100%|██████████| 364/364 [00:01<00:00, 266.29it/s, Train Loss=57.7446, Valid Loss=28.8345, Valid R2=0.0000, Valid MAE=3.2808]\n",
      "Epoch 38: 100%|██████████| 364/364 [00:01<00:00, 266.39it/s, Train Loss=57.7327, Valid Loss=28.7996, Valid R2=0.0000, Valid MAE=3.2567]\n",
      "Epoch 39: 100%|██████████| 364/364 [00:01<00:00, 267.30it/s, Train Loss=57.6959, Valid Loss=28.8850, Valid R2=0.0000, Valid MAE=3.2750]\n",
      "Epoch 40: 100%|██████████| 364/364 [00:01<00:00, 265.41it/s, Train Loss=57.7566, Valid Loss=28.7632, Valid R2=0.0000, Valid MAE=3.2591]\n",
      "Epoch 41: 100%|██████████| 364/364 [00:01<00:00, 262.19it/s, Train Loss=57.7817, Valid Loss=28.6603, Valid R2=0.0000, Valid MAE=3.2802]\n",
      "Epoch 42: 100%|██████████| 364/364 [00:01<00:00, 263.24it/s, Train Loss=57.6643, Valid Loss=28.8369, Valid R2=0.0000, Valid MAE=3.2658]\n",
      "Epoch 43: 100%|██████████| 364/364 [00:01<00:00, 237.30it/s, Train Loss=57.6390, Valid Loss=28.7665, Valid R2=0.0000, Valid MAE=3.2448]\n",
      "Epoch 44: 100%|██████████| 364/364 [00:01<00:00, 261.75it/s, Train Loss=57.5894, Valid Loss=28.8722, Valid R2=0.0000, Valid MAE=3.2577]\n",
      "Epoch 45: 100%|██████████| 364/364 [00:01<00:00, 269.73it/s, Train Loss=57.5349, Valid Loss=28.7179, Valid R2=0.0000, Valid MAE=3.2517]\n",
      "Epoch 46: 100%|██████████| 364/364 [00:01<00:00, 272.97it/s, Train Loss=57.4811, Valid Loss=28.8368, Valid R2=0.0000, Valid MAE=3.2669]\n",
      "Epoch 47: 100%|██████████| 364/364 [00:01<00:00, 269.47it/s, Train Loss=57.5751, Valid Loss=28.6538, Valid R2=0.0000, Valid MAE=3.2780]\n",
      "Epoch 48: 100%|██████████| 364/364 [00:01<00:00, 270.17it/s, Train Loss=57.5059, Valid Loss=28.7737, Valid R2=0.0000, Valid MAE=3.2687]\n",
      "Epoch 49: 100%|██████████| 364/364 [00:01<00:00, 269.96it/s, Train Loss=57.4618, Valid Loss=28.8427, Valid R2=0.0000, Valid MAE=3.2609]\n",
      "Epoch 50: 100%|██████████| 364/364 [00:01<00:00, 267.97it/s, Train Loss=57.4543, Valid Loss=28.7636, Valid R2=0.0000, Valid MAE=3.2658]\n",
      "Epoch 51: 100%|██████████| 364/364 [00:01<00:00, 267.80it/s, Train Loss=57.6647, Valid Loss=28.8344, Valid R2=0.0000, Valid MAE=3.2704]\n",
      "Epoch 52: 100%|██████████| 364/364 [00:01<00:00, 263.83it/s, Train Loss=57.4967, Valid Loss=28.6626, Valid R2=0.0000, Valid MAE=3.2737]\n",
      "Epoch 53: 100%|██████████| 364/364 [00:01<00:00, 272.46it/s, Train Loss=57.3445, Valid Loss=28.8138, Valid R2=0.0000, Valid MAE=3.2674]\n",
      "Epoch 54: 100%|██████████| 364/364 [00:01<00:00, 272.03it/s, Train Loss=57.4007, Valid Loss=28.7890, Valid R2=0.0000, Valid MAE=3.2786]\n",
      "Epoch 55: 100%|██████████| 364/364 [00:01<00:00, 265.62it/s, Train Loss=57.4010, Valid Loss=28.7575, Valid R2=0.0000, Valid MAE=3.2742]\n",
      "Epoch 56: 100%|██████████| 364/364 [00:01<00:00, 267.63it/s, Train Loss=57.3355, Valid Loss=28.6011, Valid R2=0.0000, Valid MAE=3.2722]\n",
      "Epoch 57: 100%|██████████| 364/364 [00:01<00:00, 268.65it/s, Train Loss=58.0424, Valid Loss=28.7662, Valid R2=0.0000, Valid MAE=3.2718]\n",
      "Epoch 58: 100%|██████████| 364/364 [00:01<00:00, 271.03it/s, Train Loss=57.3893, Valid Loss=28.8031, Valid R2=0.0000, Valid MAE=3.2801]\n",
      "Epoch 59: 100%|██████████| 364/364 [00:01<00:00, 265.35it/s, Train Loss=57.2448, Valid Loss=28.7088, Valid R2=0.0000, Valid MAE=3.2674]\n",
      "Epoch 60: 100%|██████████| 364/364 [00:01<00:00, 266.06it/s, Train Loss=57.1969, Valid Loss=28.8260, Valid R2=0.0000, Valid MAE=3.2691]\n",
      "Epoch 61: 100%|██████████| 364/364 [00:01<00:00, 265.77it/s, Train Loss=57.2682, Valid Loss=28.9666, Valid R2=0.0000, Valid MAE=3.2800]\n",
      "Epoch 62: 100%|██████████| 364/364 [00:01<00:00, 267.89it/s, Train Loss=57.2038, Valid Loss=28.7412, Valid R2=0.0000, Valid MAE=3.2736]\n",
      "Epoch 63: 100%|██████████| 364/364 [00:01<00:00, 269.38it/s, Train Loss=57.2856, Valid Loss=28.7093, Valid R2=0.0000, Valid MAE=3.2766]\n",
      "Epoch 64: 100%|██████████| 364/364 [00:01<00:00, 267.16it/s, Train Loss=57.3101, Valid Loss=28.7282, Valid R2=0.0000, Valid MAE=3.2723]\n",
      "Epoch 65: 100%|██████████| 364/364 [00:01<00:00, 259.83it/s, Train Loss=57.2498, Valid Loss=28.6655, Valid R2=0.0000, Valid MAE=3.2687]\n",
      "Epoch 66: 100%|██████████| 364/364 [00:01<00:00, 262.27it/s, Train Loss=57.3082, Valid Loss=28.6854, Valid R2=0.0000, Valid MAE=3.2769]\n",
      "Epoch 67: 100%|██████████| 364/364 [00:01<00:00, 268.18it/s, Train Loss=57.1774, Valid Loss=28.6386, Valid R2=0.0000, Valid MAE=3.2755]\n"
     ]
    },
    {
     "name": "stdout",
     "output_type": "stream",
     "text": [
      "Early Stopped\n"
     ]
    }
   ],
   "source": [
    "criterion = nn.MSELoss()\n",
    "optimizer = torch.optim.Adam(model.parameters(), lr=1e-4)\n",
    "\n",
    "trainer = Trainer(criterion, device, save_path='checkpoints/errors_to_errors_1.pt')\n",
    "best_model = trainer.train(model, optimizer, train_loader, val_loader, patience=10, epochs=100)"
   ]
  }
 ],
 "metadata": {
  "kernelspec": {
   "display_name": "kwon",
   "language": "python",
   "name": "python3"
  },
  "language_info": {
   "codemirror_mode": {
    "name": "ipython",
    "version": 3
   },
   "file_extension": ".py",
   "mimetype": "text/x-python",
   "name": "python",
   "nbconvert_exporter": "python",
   "pygments_lexer": "ipython3",
   "version": "3.11.5"
  }
 },
 "nbformat": 4,
 "nbformat_minor": 2
}
