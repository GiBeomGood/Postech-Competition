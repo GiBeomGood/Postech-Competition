{
 "cells": [
  {
   "cell_type": "code",
   "execution_count": 3,
   "metadata": {},
   "outputs": [],
   "source": [
    "import numpy as np\n",
    "import pandas as pd\n",
    "from pandas import Timedelta\n",
    "from tools.get_prediction_data import *\n",
    "today = pd.Timestamp.now()\n",
    "day_delta = lambda x: Timedelta(days=x)\n",
    "\n",
    "import torch\n",
    "from torch import nn\n",
    "from tools.DARNN import *\n",
    "from tools.DarnnTrainingTools import validation\n",
    "device = torch.device('cuda')"
   ]
  },
  {
   "cell_type": "code",
   "execution_count": null,
   "metadata": {},
   "outputs": [],
   "source": [
    "class QARNN(nn.Module):\n",
    "    def __init__(self, T, P, n, m, p):\n",
    "        super().__init__()\n",
    "        # T: Time step\n",
    "        # m: dimension of Encoder hidden state\n",
    "        # p: dimension of Deocder hidden state\n",
    "\n",
    "        self.T = T\n",
    "        self.P = P\n",
    "        self.m = m\n",
    "        self.p = p\n",
    "        self.encoder1 = Encoder(T+P, n-5, m)\n",
    "        self.encoder2 = Encoder(T+P, 5, m)\n",
    "        self.decoder1 = Decoder(m, p)\n",
    "        self.decoder2 = Decoder(m, p)\n",
    "        self.linear1 = nn.Linear(2*(m+p), 2*p)\n",
    "        self.linear2 = nn.Linear(2*p, P)\n",
    "        self.relu = nn.ReLU()\n",
    "\n",
    "    def forward(self, enc_data, dec_data):\n",
    "        # enc: (-1 x T+P x n)\n",
    "        # dec: (-1 x T x 1)\n",
    "        batch_size = dec_data.shape[0]\n",
    "        h0 = torch.zeros(1, batch_size, self.m, device=dec_data.device)\n",
    "        d0 = torch.zeros(1, batch_size, self.p, device=dec_data.device)\n",
    "\n",
    "        H1 = self.encoder1(enc_data[:, :, :-5], h0, h0, self.T+self.P)  # (-1 x T+P x m)\n",
    "        H2 = self.encoder2(enc_data[:, :, -5:], h0, h0, self.T+self.P)  # (-1 x T+P x m)\n",
    "\n",
    "        dec_output1 = self.decoder1(H1, dec_data, d0, d0, self.T)  # (-1 x 1 x m+p)\n",
    "        dec_output2 = self.decoder2(H2, dec_data, d0, d0, self.T)\n",
    "        dec_output1 = dec_output1.squeeze(dim=1)  # (-1 x m+p)\n",
    "        dec_output2 = dec_output2.squeeze(dim=1)  # (-1 x m+p)\n",
    "\n",
    "        output = torch.cat([dec_output1, dec_output2], dim=1)  # (-1 x 2(m+p))\n",
    "        output = self.relu(self.linear1(output))  # (-1 x 2p)\n",
    "        output = self.relu(self.linear2(output))  # (-1 x P)\n",
    "\n",
    "        return output\n",
    "    \n",
    "\n",
    "    def get_input_attention_score(self):\n",
    "        if type(self.encoder2.alpha_t) == list:\n",
    "            self.encoder2.alpha_t = torch.cat(self.encoder2.alpha_t, dim=1)  # (-1 x T+P x m)\n",
    "        return self.encoder2.alpha_t"
   ]
  },
  {
   "cell_type": "code",
   "execution_count": null,
   "metadata": {},
   "outputs": [],
   "source": [
    "x1 = torch.rand((16, 120, 18))\n",
    "x2 = torch.rand((16, 72, 1))\n",
    "model = QARNN(72, 48, 18, 32, 32)\n",
    "output = model(x1, x2)\n",
    "output.shape, output.max()"
   ]
  },
  {
   "cell_type": "code",
   "execution_count": null,
   "metadata": {},
   "outputs": [],
   "source": [
    "model.get_input_attention_score()"
   ]
  }
 ],
 "metadata": {
  "kernelspec": {
   "display_name": "torch",
   "language": "python",
   "name": "python3"
  },
  "language_info": {
   "codemirror_mode": {
    "name": "ipython",
    "version": 3
   },
   "file_extension": ".py",
   "mimetype": "text/x-python",
   "name": "python",
   "nbconvert_exporter": "python",
   "pygments_lexer": "ipython3",
   "version": "3.11.5"
  }
 },
 "nbformat": 4,
 "nbformat_minor": 2
}
