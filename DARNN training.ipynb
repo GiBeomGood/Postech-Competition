{
 "cells": [
  {
   "cell_type": "code",
   "execution_count": 1,
   "metadata": {},
   "outputs": [],
   "source": [
    "import torch\n",
    "from torch import nn, FloatTensor\n",
    "from tools.DARNN import DARNN\n",
    "from torch.utils.data import Dataset, DataLoader\n",
    "\n",
    "import pandas as pd\n",
    "import numpy as np\n",
    "from numpy import concatenate as np_cat\n",
    "from sklearn.preprocessing import MinMaxScaler\n",
    "\n",
    "from tqdm import trange\n",
    "from tools.DarnnTrainingTools import Trainer\n",
    "device = torch.device('cuda')"
   ]
  },
  {
   "cell_type": "code",
   "execution_count": 2,
   "metadata": {},
   "outputs": [],
   "source": [
    "data = pd.read_parquet('data/all_data.parquet', engine='pyarrow')\n",
    "temp = pd.read_csv('data/weather_actual.csv')\n",
    "data = pd.concat([data, temp.iloc[:, 1:]], axis=1)\n",
    "del temp\n",
    "\n",
    "data = data.drop(columns=['time']).values"
   ]
  },
  {
   "cell_type": "code",
   "execution_count": 3,
   "metadata": {},
   "outputs": [],
   "source": [
    "class CustomDataset(Dataset):\n",
    "    def __init__(self, data: np.ndarray, T=72, P=48):\n",
    "        super().__init__()\n",
    "\n",
    "        self.x1 = []; x1_append = self.x1.append\n",
    "        self.x2 = []; x2_append = self.x2.append\n",
    "        self.y = []; y_append = self.y.append\n",
    "        self.length = data.shape[0] - T - P + 1\n",
    "\n",
    "        for i in trange(self.length):\n",
    "            x1 = data[i:i+T, -13:]  # actual weather\n",
    "            x1 = np_cat([x1, data[i+T:i+T+P, 1:14]], axis=0)  # actual & forecasted weather\n",
    "            x1 = np_cat([x1, data[i:i+T+P, 14:19]], axis=1)  # forecasted gens\n",
    "            x1_append(FloatTensor(x1))\n",
    "            \n",
    "            x2_append(FloatTensor(data[i:i+T, 0].reshape(T, 1)))\n",
    "            y_append(FloatTensor(data[i+T:i+T+P, 0]))\n",
    "\n",
    "\n",
    "    def __len__(self):\n",
    "        return self.length\n",
    "\n",
    "\n",
    "    def __getitem__(self, index):\n",
    "        return self.x1[index], self.x2[index], self.y[index]"
   ]
  },
  {
   "cell_type": "code",
   "execution_count": 4,
   "metadata": {},
   "outputs": [
    {
     "name": "stderr",
     "output_type": "stream",
     "text": [
      "100%|██████████| 9481/9481 [00:00<00:00, 32704.27it/s]\n",
      "100%|██████████| 1081/1081 [00:00<00:00, 33876.34it/s]\n",
      "100%|██████████| 697/697 [00:00<00:00, 8628.73it/s]\n"
     ]
    }
   ],
   "source": [
    "train_set = CustomDataset(data[:24*400])\n",
    "train_loader = DataLoader(train_set, batch_size=32, shuffle=True)\n",
    "\n",
    "val_set = CustomDataset(data[24*400:24*450])\n",
    "val_loader = DataLoader(train_set, batch_size=512, shuffle=False)\n",
    "\n",
    "test_set = CustomDataset(data[24*450:24*484])\n",
    "test_loader = DataLoader(test_set, batch_size=512, shuffle=False)"
   ]
  },
  {
   "cell_type": "code",
   "execution_count": 5,
   "metadata": {},
   "outputs": [],
   "source": [
    "criterion = nn.MSELoss()\n",
    "model = DARNN(72, 48, 18, 32, 32).to(device)\n",
    "optimizer = torch.optim.Adam(model.parameters(), lr=1e-3)\n",
    "\n",
    "trainer = Trainer(criterion, device, 'checkpoints/darnn_best.pt')"
   ]
  },
  {
   "cell_type": "code",
   "execution_count": 6,
   "metadata": {},
   "outputs": [
    {
     "name": "stderr",
     "output_type": "stream",
     "text": [
      "Epoch  0: 100%|██████████| 297/297 [01:11<00:00,  4.14it/s, Train Loss=713.3652, Valid Loss=648.5165, Valid R2=-0.2832, Valid MAE=20.8614, Valid Profit=-167.7]\n",
      "Epoch  1: 100%|██████████| 297/297 [01:11<00:00,  4.14it/s, Train Loss=639.8602, Valid Loss=634.0107, Valid R2=-0.0994, Valid MAE=20.1185, Valid Profit=-150.2]\n",
      "Epoch  2: 100%|██████████| 297/297 [01:10<00:00,  4.19it/s, Train Loss=503.8526, Valid Loss=277.9809, Valid R2=0.3207, Valid MAE=11.6416, Valid Profit=-269.4]\n",
      "Epoch  3: 100%|██████████| 297/297 [01:10<00:00,  4.21it/s, Train Loss=239.4924, Valid Loss=204.5653, Valid R2=0.4506, Valid MAE=9.4961, Valid Profit=-326.7]\n",
      "Epoch  4: 100%|██████████| 297/297 [01:11<00:00,  4.17it/s, Train Loss=204.3604, Valid Loss=179.0689, Valid R2=0.5205, Valid MAE=8.8049, Valid Profit=-362.6]\n",
      "Epoch  5: 100%|██████████| 297/297 [01:11<00:00,  4.14it/s, Train Loss=176.4665, Valid Loss=152.2947, Valid R2=0.5931, Valid MAE=7.8146, Valid Profit=-379.0]\n",
      "Epoch  6: 100%|██████████| 297/297 [01:11<00:00,  4.16it/s, Train Loss=144.7148, Valid Loss=131.0354, Valid R2=0.5771, Valid MAE=7.0173, Valid Profit=-452.8]\n",
      "Epoch  7: 100%|██████████| 297/297 [01:11<00:00,  4.16it/s, Train Loss=128.6054, Valid Loss=144.6068, Valid R2=0.5932, Valid MAE=7.2424, Valid Profit=-405.8]\n",
      "Epoch  8: 100%|██████████| 297/297 [01:11<00:00,  4.18it/s, Train Loss=126.8791, Valid Loss=120.8608, Valid R2=0.6073, Valid MAE=6.4719, Valid Profit=-563.2]\n",
      "Epoch  9: 100%|██████████| 297/297 [01:10<00:00,  4.20it/s, Train Loss=117.5042, Valid Loss=113.6913, Valid R2=0.6785, Valid MAE=6.1772, Valid Profit=-525.0]\n",
      "Epoch 10: 100%|██████████| 297/297 [01:09<00:00,  4.27it/s, Train Loss=114.1350, Valid Loss=112.5418, Valid R2=0.7071, Valid MAE=6.1198, Valid Profit=-481.3]\n",
      "Epoch 11: 100%|██████████| 297/297 [01:10<00:00,  4.23it/s, Train Loss=109.7729, Valid Loss=106.6464, Valid R2=0.6900, Valid MAE=5.8943, Valid Profit=-641.8]\n",
      "Epoch 12: 100%|██████████| 297/297 [01:09<00:00,  4.24it/s, Train Loss=123.0505, Valid Loss=111.0644, Valid R2=0.6715, Valid MAE=6.1528, Valid Profit=-558.6]\n",
      "Epoch 13: 100%|██████████| 297/297 [01:10<00:00,  4.23it/s, Train Loss=112.1882, Valid Loss=112.9370, Valid R2=0.6749, Valid MAE=6.1645, Valid Profit=-574.9]\n",
      "Epoch 14: 100%|██████████| 297/297 [01:10<00:00,  4.24it/s, Train Loss=106.4142, Valid Loss=102.3626, Valid R2=0.7134, Valid MAE=5.7630, Valid Profit=-622.4]\n",
      "Epoch 15: 100%|██████████| 297/297 [01:10<00:00,  4.24it/s, Train Loss=104.0749, Valid Loss=100.1228, Valid R2=0.7368, Valid MAE=5.6552, Valid Profit=-607.7]\n",
      "Epoch 16: 100%|██████████| 297/297 [01:08<00:00,  4.31it/s, Train Loss=105.0124, Valid Loss=100.0658, Valid R2=0.7157, Valid MAE=5.6755, Valid Profit=-651.7]\n",
      "Epoch 17: 100%|██████████| 297/297 [01:11<00:00,  4.18it/s, Train Loss=101.4386, Valid Loss=98.0803, Valid R2=0.7406, Valid MAE=5.5846, Valid Profit=-653.8]\n",
      "Epoch 18: 100%|██████████| 297/297 [01:09<00:00,  4.27it/s, Train Loss=106.6408, Valid Loss=100.5044, Valid R2=0.7181, Valid MAE=5.6493, Valid Profit=-631.0]\n",
      "Epoch 19: 100%|██████████| 297/297 [01:11<00:00,  4.17it/s, Train Loss=100.8350, Valid Loss=99.3573, Valid R2=0.7320, Valid MAE=5.6358, Valid Profit=-645.3]\n",
      "Epoch 20: 100%|██████████| 297/297 [01:10<00:00,  4.19it/s, Train Loss=99.7349, Valid Loss=96.1357, Valid R2=0.7387, Valid MAE=5.4528, Valid Profit=-646.1]\n",
      "Epoch 21: 100%|██████████| 297/297 [01:11<00:00,  4.16it/s, Train Loss=97.9297, Valid Loss=94.6691, Valid R2=0.7384, Valid MAE=5.4749, Valid Profit=-705.3]\n",
      "Epoch 22: 100%|██████████| 297/297 [01:11<00:00,  4.18it/s, Train Loss=98.9245, Valid Loss=96.3968, Valid R2=0.7365, Valid MAE=5.4671, Valid Profit=-670.5]\n",
      "Epoch 23: 100%|██████████| 297/297 [01:10<00:00,  4.21it/s, Train Loss=98.0453, Valid Loss=92.8311, Valid R2=0.7561, Valid MAE=5.3593, Valid Profit=-655.5]\n",
      "Epoch 24: 100%|██████████| 297/297 [01:10<00:00,  4.20it/s, Train Loss=97.1268, Valid Loss=91.8862, Valid R2=0.7488, Valid MAE=5.3376, Valid Profit=-684.3]\n",
      "Epoch 25: 100%|██████████| 297/297 [01:10<00:00,  4.23it/s, Train Loss=93.1488, Valid Loss=89.8587, Valid R2=0.7720, Valid MAE=5.2171, Valid Profit=-699.2]\n",
      "Epoch 26: 100%|██████████| 297/297 [01:09<00:00,  4.25it/s, Train Loss=92.0502, Valid Loss=91.0672, Valid R2=0.7728, Valid MAE=5.2858, Valid Profit=-642.5]\n",
      "Epoch 27: 100%|██████████| 297/297 [01:10<00:00,  4.22it/s, Train Loss=91.0986, Valid Loss=89.4858, Valid R2=0.7686, Valid MAE=5.1780, Valid Profit=-743.3]\n",
      "Epoch 28: 100%|██████████| 297/297 [01:10<00:00,  4.24it/s, Train Loss=90.0563, Valid Loss=88.6067, Valid R2=0.7667, Valid MAE=5.2066, Valid Profit=-750.4]\n",
      "Epoch 29: 100%|██████████| 297/297 [01:10<00:00,  4.21it/s, Train Loss=90.4270, Valid Loss=86.1072, Valid R2=0.7865, Valid MAE=5.1578, Valid Profit=-703.8]\n",
      "Epoch 30: 100%|██████████| 297/297 [01:10<00:00,  4.23it/s, Train Loss=87.6780, Valid Loss=84.7051, Valid R2=0.7886, Valid MAE=5.0752, Valid Profit=-707.9]\n",
      "Epoch 31: 100%|██████████| 297/297 [01:10<00:00,  4.19it/s, Train Loss=87.2873, Valid Loss=85.1253, Valid R2=0.7937, Valid MAE=5.0781, Valid Profit=-679.0]\n",
      "Epoch 32: 100%|██████████| 297/297 [01:08<00:00,  4.33it/s, Train Loss=86.0919, Valid Loss=86.1586, Valid R2=0.7783, Valid MAE=5.1208, Valid Profit=-763.2]\n",
      "Epoch 33: 100%|██████████| 297/297 [01:10<00:00,  4.21it/s, Train Loss=85.4281, Valid Loss=83.7287, Valid R2=0.7768, Valid MAE=5.1088, Valid Profit=-732.6]\n",
      "Epoch 34: 100%|██████████| 297/297 [01:10<00:00,  4.23it/s, Train Loss=85.3605, Valid Loss=84.2467, Valid R2=0.7982, Valid MAE=5.0671, Valid Profit=-682.2]\n",
      "Epoch 35: 100%|██████████| 297/297 [01:10<00:00,  4.20it/s, Train Loss=83.8190, Valid Loss=82.9533, Valid R2=0.7964, Valid MAE=5.0626, Valid Profit=-702.6]\n",
      "Epoch 36: 100%|██████████| 297/297 [01:09<00:00,  4.25it/s, Train Loss=83.2529, Valid Loss=82.6222, Valid R2=0.7921, Valid MAE=5.0357, Valid Profit=-748.0]\n",
      "Epoch 37: 100%|██████████| 297/297 [01:12<00:00,  4.08it/s, Train Loss=83.6662, Valid Loss=80.6459, Valid R2=0.7918, Valid MAE=4.9893, Valid Profit=-747.8]\n",
      "Epoch 38: 100%|██████████| 297/297 [01:12<00:00,  4.10it/s, Train Loss=81.5049, Valid Loss=78.0789, Valid R2=0.8049, Valid MAE=4.8864, Valid Profit=-762.9]\n",
      "Epoch 39: 100%|██████████| 297/297 [01:12<00:00,  4.08it/s, Train Loss=80.6113, Valid Loss=79.5705, Valid R2=0.7965, Valid MAE=4.9288, Valid Profit=-753.6]\n",
      "Epoch 40: 100%|██████████| 297/297 [01:11<00:00,  4.15it/s, Train Loss=79.6634, Valid Loss=76.6305, Valid R2=0.8077, Valid MAE=4.8897, Valid Profit=-737.8]\n",
      "Epoch 41: 100%|██████████| 297/297 [01:11<00:00,  4.15it/s, Train Loss=79.3225, Valid Loss=76.0192, Valid R2=0.7975, Valid MAE=4.8549, Valid Profit=-739.0]\n",
      "Epoch 42: 100%|██████████| 297/297 [01:10<00:00,  4.18it/s, Train Loss=77.6772, Valid Loss=74.6477, Valid R2=0.8127, Valid MAE=4.8004, Valid Profit=-753.6]\n",
      "Epoch 43: 100%|██████████| 297/297 [01:11<00:00,  4.18it/s, Train Loss=76.2054, Valid Loss=75.4781, Valid R2=0.8075, Valid MAE=4.8705, Valid Profit=-763.0]"
     ]
    },
    {
     "name": "stdout",
     "output_type": "stream",
     "text": [
      "Early Stopped\n"
     ]
    },
    {
     "name": "stderr",
     "output_type": "stream",
     "text": [
      "\n"
     ]
    }
   ],
   "source": [
    "best_model = trainer.train(model, optimizer, train_loader, val_loader, patience=10, epochs=100)"
   ]
  },
  {
   "cell_type": "code",
   "execution_count": 7,
   "metadata": {},
   "outputs": [
    {
     "name": "stdout",
     "output_type": "stream",
     "text": [
      "Test Loss: 133.8098 | Test R2: 0.5011 | Test MAE: 6.1811 | Test Profit: -659.5\n"
     ]
    }
   ],
   "source": [
    "trainer.test(test_loader)"
   ]
  }
 ],
 "metadata": {
  "kernelspec": {
   "display_name": "torch",
   "language": "python",
   "name": "python3"
  },
  "language_info": {
   "codemirror_mode": {
    "name": "ipython",
    "version": 3
   },
   "file_extension": ".py",
   "mimetype": "text/x-python",
   "name": "python",
   "nbconvert_exporter": "python",
   "pygments_lexer": "ipython3",
   "version": "3.11.5"
  }
 },
 "nbformat": 4,
 "nbformat_minor": 2
}
