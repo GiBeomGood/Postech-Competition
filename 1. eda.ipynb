{
 "cells": [
  {
   "cell_type": "code",
   "execution_count": 1,
   "metadata": {},
   "outputs": [],
   "source": [
    "import numpy as np\n",
    "import pandas as pd\n",
    "from matplotlib import pyplot as plt\n",
    "import seaborn as sns\n",
    "from tqdm import tqdm"
   ]
  },
  {
   "cell_type": "code",
   "execution_count": 2,
   "metadata": {},
   "outputs": [],
   "source": [
    "gens = pd.read_csv('data/gens.csv')\n",
    "incentive = pd.read_csv('data/incentive.csv')\n",
    "pred_2 = pd.read_csv('data/pred.csv')\n",
    "pred_1 = pred_2.loc[pred_2['round']==1, :].copy()\n",
    "pred_2 = pred_2.loc[pred_2['round']==2, :].reset_index(drop=True)\n",
    "\n",
    "actual = pd.read_csv('data/weather_actual.csv')\n",
    "\n",
    "forecast_2 = pd.read_csv('data/weather_forecast.csv')\n",
    "forecast_1 = forecast_2.loc[forecast_2['round']==1, :].copy()\n",
    "forecast_2 = forecast_2.loc[forecast_2['round']==2, :].reset_index(drop=True)"
   ]
  },
  {
   "cell_type": "markdown",
   "metadata": {},
   "source": [
    "+ Missing: 2023. 8. 17. data is not included in `pred.csv`"
   ]
  },
  {
   "cell_type": "code",
   "execution_count": 9,
   "metadata": {},
   "outputs": [
    {
     "data": {
      "text/html": [
       "<div>\n",
       "<style scoped>\n",
       "    .dataframe tbody tr th:only-of-type {\n",
       "        vertical-align: middle;\n",
       "    }\n",
       "\n",
       "    .dataframe tbody tr th {\n",
       "        vertical-align: top;\n",
       "    }\n",
       "\n",
       "    .dataframe thead th {\n",
       "        text-align: right;\n",
       "    }\n",
       "</style>\n",
       "<table border=\"1\" class=\"dataframe\">\n",
       "  <thead>\n",
       "    <tr style=\"text-align: right;\">\n",
       "      <th></th>\n",
       "      <th>time</th>\n",
       "      <th>amount</th>\n",
       "    </tr>\n",
       "  </thead>\n",
       "  <tbody>\n",
       "    <tr>\n",
       "      <th>0</th>\n",
       "      <td>2022-06-19 01:00:00+09:00</td>\n",
       "      <td>0.0</td>\n",
       "    </tr>\n",
       "    <tr>\n",
       "      <th>1</th>\n",
       "      <td>2022-06-19 02:00:00+09:00</td>\n",
       "      <td>0.0</td>\n",
       "    </tr>\n",
       "    <tr>\n",
       "      <th>2</th>\n",
       "      <td>2022-06-19 03:00:00+09:00</td>\n",
       "      <td>0.0</td>\n",
       "    </tr>\n",
       "    <tr>\n",
       "      <th>3</th>\n",
       "      <td>2022-06-19 04:00:00+09:00</td>\n",
       "      <td>0.0</td>\n",
       "    </tr>\n",
       "    <tr>\n",
       "      <th>4</th>\n",
       "      <td>2022-06-19 05:00:00+09:00</td>\n",
       "      <td>0.0</td>\n",
       "    </tr>\n",
       "    <tr>\n",
       "      <th>...</th>\n",
       "      <td>...</td>\n",
       "      <td>...</td>\n",
       "    </tr>\n",
       "    <tr>\n",
       "      <th>11611</th>\n",
       "      <td>2023-10-15 20:00:00+09:00</td>\n",
       "      <td>0.0</td>\n",
       "    </tr>\n",
       "    <tr>\n",
       "      <th>11612</th>\n",
       "      <td>2023-10-15 21:00:00+09:00</td>\n",
       "      <td>0.0</td>\n",
       "    </tr>\n",
       "    <tr>\n",
       "      <th>11613</th>\n",
       "      <td>2023-10-15 22:00:00+09:00</td>\n",
       "      <td>0.0</td>\n",
       "    </tr>\n",
       "    <tr>\n",
       "      <th>11614</th>\n",
       "      <td>2023-10-15 23:00:00+09:00</td>\n",
       "      <td>0.0</td>\n",
       "    </tr>\n",
       "    <tr>\n",
       "      <th>11615</th>\n",
       "      <td>2023-10-16 00:00:00+09:00</td>\n",
       "      <td>0.0</td>\n",
       "    </tr>\n",
       "  </tbody>\n",
       "</table>\n",
       "<p>11616 rows × 2 columns</p>\n",
       "</div>"
      ],
      "text/plain": [
       "                           time  amount\n",
       "0     2022-06-19 01:00:00+09:00     0.0\n",
       "1     2022-06-19 02:00:00+09:00     0.0\n",
       "2     2022-06-19 03:00:00+09:00     0.0\n",
       "3     2022-06-19 04:00:00+09:00     0.0\n",
       "4     2022-06-19 05:00:00+09:00     0.0\n",
       "...                         ...     ...\n",
       "11611 2023-10-15 20:00:00+09:00     0.0\n",
       "11612 2023-10-15 21:00:00+09:00     0.0\n",
       "11613 2023-10-15 22:00:00+09:00     0.0\n",
       "11614 2023-10-15 23:00:00+09:00     0.0\n",
       "11615 2023-10-16 00:00:00+09:00     0.0\n",
       "\n",
       "[11616 rows x 2 columns]"
      ]
     },
     "execution_count": 9,
     "metadata": {},
     "output_type": "execute_result"
    }
   ],
   "source": [
    "gens.time = pd.to_datetime(gens.time).dt.tz_convert('Asia/Seoul')\n",
    "gens"
   ]
  },
  {
   "cell_type": "code",
   "execution_count": 10,
   "metadata": {},
   "outputs": [
    {
     "data": {
      "text/html": [
       "<div>\n",
       "<style scoped>\n",
       "    .dataframe tbody tr th:only-of-type {\n",
       "        vertical-align: middle;\n",
       "    }\n",
       "\n",
       "    .dataframe tbody tr th {\n",
       "        vertical-align: top;\n",
       "    }\n",
       "\n",
       "    .dataframe thead th {\n",
       "        text-align: right;\n",
       "    }\n",
       "</style>\n",
       "<table border=\"1\" class=\"dataframe\">\n",
       "  <thead>\n",
       "    <tr style=\"text-align: right;\">\n",
       "      <th></th>\n",
       "      <th>time</th>\n",
       "      <th>amount</th>\n",
       "      <th>hour</th>\n",
       "    </tr>\n",
       "  </thead>\n",
       "  <tbody>\n",
       "    <tr>\n",
       "      <th>0</th>\n",
       "      <td>2022-06-19 01:00:00+09:00</td>\n",
       "      <td>0.0</td>\n",
       "      <td>1</td>\n",
       "    </tr>\n",
       "    <tr>\n",
       "      <th>1</th>\n",
       "      <td>2022-06-19 02:00:00+09:00</td>\n",
       "      <td>0.0</td>\n",
       "      <td>2</td>\n",
       "    </tr>\n",
       "    <tr>\n",
       "      <th>2</th>\n",
       "      <td>2022-06-19 03:00:00+09:00</td>\n",
       "      <td>0.0</td>\n",
       "      <td>3</td>\n",
       "    </tr>\n",
       "    <tr>\n",
       "      <th>3</th>\n",
       "      <td>2022-06-19 04:00:00+09:00</td>\n",
       "      <td>0.0</td>\n",
       "      <td>4</td>\n",
       "    </tr>\n",
       "    <tr>\n",
       "      <th>4</th>\n",
       "      <td>2022-06-19 05:00:00+09:00</td>\n",
       "      <td>0.0</td>\n",
       "      <td>5</td>\n",
       "    </tr>\n",
       "    <tr>\n",
       "      <th>...</th>\n",
       "      <td>...</td>\n",
       "      <td>...</td>\n",
       "      <td>...</td>\n",
       "    </tr>\n",
       "    <tr>\n",
       "      <th>11611</th>\n",
       "      <td>2023-10-15 20:00:00+09:00</td>\n",
       "      <td>0.0</td>\n",
       "      <td>20</td>\n",
       "    </tr>\n",
       "    <tr>\n",
       "      <th>11612</th>\n",
       "      <td>2023-10-15 21:00:00+09:00</td>\n",
       "      <td>0.0</td>\n",
       "      <td>21</td>\n",
       "    </tr>\n",
       "    <tr>\n",
       "      <th>11613</th>\n",
       "      <td>2023-10-15 22:00:00+09:00</td>\n",
       "      <td>0.0</td>\n",
       "      <td>22</td>\n",
       "    </tr>\n",
       "    <tr>\n",
       "      <th>11614</th>\n",
       "      <td>2023-10-15 23:00:00+09:00</td>\n",
       "      <td>0.0</td>\n",
       "      <td>23</td>\n",
       "    </tr>\n",
       "    <tr>\n",
       "      <th>11615</th>\n",
       "      <td>2023-10-16 00:00:00+09:00</td>\n",
       "      <td>0.0</td>\n",
       "      <td>0</td>\n",
       "    </tr>\n",
       "  </tbody>\n",
       "</table>\n",
       "<p>11616 rows × 3 columns</p>\n",
       "</div>"
      ],
      "text/plain": [
       "                           time  amount  hour\n",
       "0     2022-06-19 01:00:00+09:00     0.0     1\n",
       "1     2022-06-19 02:00:00+09:00     0.0     2\n",
       "2     2022-06-19 03:00:00+09:00     0.0     3\n",
       "3     2022-06-19 04:00:00+09:00     0.0     4\n",
       "4     2022-06-19 05:00:00+09:00     0.0     5\n",
       "...                         ...     ...   ...\n",
       "11611 2023-10-15 20:00:00+09:00     0.0    20\n",
       "11612 2023-10-15 21:00:00+09:00     0.0    21\n",
       "11613 2023-10-15 22:00:00+09:00     0.0    22\n",
       "11614 2023-10-15 23:00:00+09:00     0.0    23\n",
       "11615 2023-10-16 00:00:00+09:00     0.0     0\n",
       "\n",
       "[11616 rows x 3 columns]"
      ]
     },
     "execution_count": 10,
     "metadata": {},
     "output_type": "execute_result"
    }
   ],
   "source": [
    "gens['hour'] = gens.time.dt.hour\n",
    "gens"
   ]
  },
  {
   "cell_type": "code",
   "execution_count": 19,
   "metadata": {},
   "outputs": [
    {
     "data": {
      "text/plain": [
       "count    484.000000\n",
       "mean       0.132342\n",
       "std        0.374921\n",
       "min        0.000000\n",
       "25%        0.000000\n",
       "50%        0.000000\n",
       "75%        0.000000\n",
       "max        2.000000\n",
       "Name: amount, dtype: float64"
      ]
     },
     "execution_count": 19,
     "metadata": {},
     "output_type": "execute_result"
    }
   ],
   "source": [
    "gens.loc[gens.hour==6, 'amount'].describe()"
   ]
  },
  {
   "cell_type": "code",
   "execution_count": 11,
   "metadata": {},
   "outputs": [
    {
     "data": {
      "text/plain": [
       "hour\n",
       "0      0.000000\n",
       "1      0.000000\n",
       "2      0.000000\n",
       "3      0.000000\n",
       "4      0.000000\n",
       "5      0.000000\n",
       "6      0.132342\n",
       "7      1.992525\n",
       "8      9.063785\n",
       "9     22.966690\n",
       "10    38.141336\n",
       "11    49.412575\n",
       "12    55.469702\n",
       "13    58.745103\n",
       "14    56.037715\n",
       "15    49.643681\n",
       "16    38.391663\n",
       "17    24.209725\n",
       "18    10.377041\n",
       "19     2.764270\n",
       "20     0.325916\n",
       "21     0.000000\n",
       "22     0.000000\n",
       "23     0.000000\n",
       "Name: amount, dtype: float64"
      ]
     },
     "execution_count": 11,
     "metadata": {},
     "output_type": "execute_result"
    }
   ],
   "source": [
    "gens.groupby(by='hour')['amount'].mean()"
   ]
  }
 ],
 "metadata": {
  "kernelspec": {
   "display_name": "kwon",
   "language": "python",
   "name": "python3"
  },
  "language_info": {
   "codemirror_mode": {
    "name": "ipython",
    "version": 3
   },
   "file_extension": ".py",
   "mimetype": "text/x-python",
   "name": "python",
   "nbconvert_exporter": "python",
   "pygments_lexer": "ipython3",
   "version": "3.12.0"
  }
 },
 "nbformat": 4,
 "nbformat_minor": 2
}
