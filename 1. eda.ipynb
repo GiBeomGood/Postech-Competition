{
 "cells": [
  {
   "cell_type": "code",
   "execution_count": 1,
   "metadata": {},
   "outputs": [],
   "source": [
    "import numpy as np\n",
    "import pandas as pd\n",
    "from matplotlib import pyplot as plt\n",
    "import seaborn as sns\n",
    "from tqdm import tqdm"
   ]
  },
  {
   "cell_type": "code",
   "execution_count": 2,
   "metadata": {},
   "outputs": [],
   "source": [
    "gens = pd.read_csv('data/gens.csv')\n",
    "incentive = pd.read_csv('data/incentive.csv')\n",
    "pred_2 = pd.read_csv('data/pred.csv')\n",
    "pred_1 = pred_2.loc[pred_2['round']==1, :].copy()\n",
    "pred_2 = pred_2.loc[pred_2['round']==2, :].reset_index(drop=True)\n",
    "\n",
    "actual = pd.read_csv('data/weather_actual.csv')\n",
    "\n",
    "forecast_2 = pd.read_csv('data/weather_forecast.csv')\n",
    "forecast_1 = forecast_2.loc[forecast_2['round']==1, :].copy()\n",
    "forecast_2 = forecast_2.loc[forecast_2['round']==2, :].reset_index(drop=True)"
   ]
  },
  {
   "cell_type": "markdown",
   "metadata": {},
   "source": [
    "+ Missing: 2023. 8. 17. data is not included in `pred.csv`"
   ]
  },
  {
   "cell_type": "code",
   "execution_count": 19,
   "metadata": {},
   "outputs": [],
   "source": [
    "pred_1_matrix = pred_1.amount.values.reshape(gens.shape[0], 5)\n",
    "calc_errors = lambda pred: np.abs(gens.amount-pred) / 99.0 * 100"
   ]
  },
  {
   "cell_type": "code",
   "execution_count": 20,
   "metadata": {},
   "outputs": [],
   "source": [
    "for i in range(5):\n",
    "    globals()[f'errors_{i}'] = calc_errors(pred_1_matrix[:, i])"
   ]
  }
 ],
 "metadata": {
  "kernelspec": {
   "display_name": "kwon",
   "language": "python",
   "name": "python3"
  },
  "language_info": {
   "codemirror_mode": {
    "name": "ipython",
    "version": 3
   },
   "file_extension": ".py",
   "mimetype": "text/x-python",
   "name": "python",
   "nbconvert_exporter": "python",
   "pygments_lexer": "ipython3",
   "version": "3.12.0"
  }
 },
 "nbformat": 4,
 "nbformat_minor": 2
}
