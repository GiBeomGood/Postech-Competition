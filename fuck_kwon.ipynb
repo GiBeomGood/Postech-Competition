{
 "cells": [
  {
   "cell_type": "code",
   "execution_count": 2,
   "metadata": {},
   "outputs": [],
   "source": [
    "import pandas as pd\n",
    "from tools.get_prediction_data import *\n",
    "today = pd.Timestamp.now()"
   ]
  },
  {
   "cell_type": "code",
   "execution_count": 3,
   "metadata": {},
   "outputs": [],
   "source": [
    "amounts = [ 0.,          0.,          0.,          0.,          0.,          0.,\n",
    "  0.,          4.89772177, 13.64282417, 24.20394897, 33.30239487, 38.44126129 ,\n",
    " 38.95751572, 35.78792572, 27.98015213, 18.71289635,  8.34722328,  1.53361666, \n",
    "  0.1178624,   0.,          0.,          0.,          0.,          0.,        ]"
   ]
  },
  {
   "cell_type": "code",
   "execution_count": 13,
   "metadata": {},
   "outputs": [],
   "source": [
    "start_date = pd.Timestamp('2023-11-14')\n",
    "end_date = start_date\n",
    "fuck = get_gen_forecast(start_date, end_date)"
   ]
  },
  {
   "cell_type": "code",
   "execution_count": 14,
   "metadata": {},
   "outputs": [
    {
     "name": "stdout",
     "output_type": "stream",
     "text": [
      "[0.0, 0.0, 0.0, 0.0, 0.0, 0.0, 1.5723452999999998, 5.046175400000001, 21.01594, 31.870259999999995, 39.56622, 42.89914, 41.96094, 43.66558, 30.80742, 26.12726, 12.060421999999999, 2.2361906, 0.5210065, 0.0, 0.0, 0.0, 0.0, 0.0]\n"
     ]
    }
   ],
   "source": [
    "amounts = fuck.iloc[:, 1:].mean(axis=1)\n",
    "amounts = amounts.values.tolist()\n",
    "print(amounts)"
   ]
  },
  {
   "cell_type": "code",
   "execution_count": 4,
   "metadata": {},
   "outputs": [
    {
     "name": "stdout",
     "output_type": "stream",
     "text": [
      "True\n"
     ]
    }
   ],
   "source": [
    "import requests\n",
    "import json\n",
    "\n",
    "success = requests.post(f'https://research-api.solarkim.com/cmpt-2023/bids', data=json.dumps(amounts), headers={\n",
    "                            'Authorization': f'Bearer {API_KEY}'\n",
    "                        }).json()\n",
    "print(success)"
   ]
  },
  {
   "cell_type": "code",
   "execution_count": null,
   "metadata": {},
   "outputs": [],
   "source": [
    "fuck.loc[fuck.time==7, 'amount'].describe()"
   ]
  },
  {
   "cell_type": "code",
   "execution_count": null,
   "metadata": {},
   "outputs": [],
   "source": [
    "[*range(1, 25), *range(1, 25)][31:43]"
   ]
  },
  {
   "cell_type": "code",
   "execution_count": null,
   "metadata": {},
   "outputs": [],
   "source": [
    "get_gen(today-pd.Timedelta(days=3), today-pd.Timedelta(days=1))"
   ]
  }
 ],
 "metadata": {
  "kernelspec": {
   "display_name": "kwon",
   "language": "python",
   "name": "python3"
  },
  "language_info": {
   "codemirror_mode": {
    "name": "ipython",
    "version": 3
   },
   "file_extension": ".py",
   "mimetype": "text/x-python",
   "name": "python",
   "nbconvert_exporter": "python",
   "pygments_lexer": "ipython3",
   "version": "3.12.0"
  }
 },
 "nbformat": 4,
 "nbformat_minor": 2
}
