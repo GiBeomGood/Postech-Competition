{
 "cells": [
  {
   "cell_type": "code",
   "execution_count": 1,
   "metadata": {},
   "outputs": [],
   "source": [
    "import torch\n",
    "from torch import nn, FloatTensor\n",
    "from tools.DARNN import QARNN\n",
    "from torch.utils.data import Dataset, DataLoader\n",
    "\n",
    "import pandas as pd\n",
    "import numpy as np\n",
    "from numpy import concatenate as np_cat\n",
    "from sklearn.preprocessing import MinMaxScaler\n",
    "\n",
    "from tqdm import trange\n",
    "from tools.DarnnTrainingTools import Trainer\n",
    "device = torch.device('cuda')"
   ]
  },
  {
   "cell_type": "code",
   "execution_count": 2,
   "metadata": {},
   "outputs": [],
   "source": [
    "data = pd.read_parquet('data/all_data.parquet', engine='pyarrow')\n",
    "temp = pd.read_csv('data/weather_actual.csv')\n",
    "data = pd.concat([data, temp.iloc[:, 1:]], axis=1)\n",
    "del temp\n",
    "\n",
    "data = data.drop(columns=['time']).values"
   ]
  },
  {
   "cell_type": "code",
   "execution_count": 3,
   "metadata": {},
   "outputs": [],
   "source": [
    "class CustomDataset(Dataset):\n",
    "    def __init__(self, data: np.ndarray, T=72, P=48):\n",
    "        super().__init__()\n",
    "\n",
    "        self.x1 = []; x1_append = self.x1.append\n",
    "        self.x2 = []; x2_append = self.x2.append\n",
    "        self.y = []; y_append = self.y.append\n",
    "        self.length = data.shape[0] - T - P + 1\n",
    "\n",
    "        for i in trange(self.length):\n",
    "            x1 = data[i:i+T, -13:]  # actual weather\n",
    "            x1 = np_cat([x1, data[i+T:i+T+P, 1:14]], axis=0)  # actual & forecasted weather\n",
    "            x1 = np_cat([x1, data[i:i+T+P, 14:19]], axis=1)  # forecasted gens\n",
    "            x1_append(FloatTensor(x1))\n",
    "            \n",
    "            x2_append(FloatTensor(data[i:i+T, 0].reshape(T, 1)))\n",
    "            y_append(FloatTensor(data[i+T:i+T+P, 0]))\n",
    "\n",
    "\n",
    "    def __len__(self):\n",
    "        return self.length\n",
    "\n",
    "\n",
    "    def __getitem__(self, index):\n",
    "        return self.x1[index], self.x2[index], self.y[index]"
   ]
  },
  {
   "cell_type": "code",
   "execution_count": 4,
   "metadata": {},
   "outputs": [
    {
     "name": "stderr",
     "output_type": "stream",
     "text": [
      "100%|██████████| 9481/9481 [00:00<00:00, 33950.60it/s]\n",
      "100%|██████████| 1081/1081 [00:00<00:00, 30941.07it/s]\n",
      "100%|██████████| 697/697 [00:00<00:00, 8624.63it/s]\n"
     ]
    }
   ],
   "source": [
    "train_set = CustomDataset(data[:24*400])\n",
    "train_loader = DataLoader(train_set, batch_size=32, shuffle=True)\n",
    "\n",
    "val_set = CustomDataset(data[24*400:24*450])\n",
    "val_loader = DataLoader(train_set, batch_size=512, shuffle=False)\n",
    "\n",
    "test_set = CustomDataset(data[24*450:24*484])\n",
    "test_loader = DataLoader(test_set, batch_size=512, shuffle=False)"
   ]
  },
  {
   "cell_type": "code",
   "execution_count": 5,
   "metadata": {},
   "outputs": [],
   "source": [
    "criterion = nn.MSELoss()\n",
    "model = QARNN(72, 48, 18, 32, 32).to(device)\n",
    "optimizer = torch.optim.Adam(model.parameters(), lr=1e-3)\n",
    "\n",
    "trainer = Trainer(criterion, device, 'checkpoints/qarnn_best.pt')"
   ]
  },
  {
   "cell_type": "code",
   "execution_count": 6,
   "metadata": {},
   "outputs": [
    {
     "name": "stderr",
     "output_type": "stream",
     "text": [
      "Epoch  0: 100%|██████████| 297/297 [02:12<00:00,  2.24it/s, Train Loss=641.1020, Valid Loss=457.7111, Valid R2=-0.0598, Valid MAE=15.7926, Valid Profit=-197.0]\n",
      "Epoch  1: 100%|██████████| 297/297 [02:12<00:00,  2.25it/s, Train Loss=338.4697, Valid Loss=215.8557, Valid R2=0.3092, Valid MAE=9.9663, Valid Profit=-332.0]\n",
      "Epoch  2: 100%|██████████| 297/297 [02:15<00:00,  2.19it/s, Train Loss=192.1375, Valid Loss=160.8734, Valid R2=0.4497, Valid MAE=7.7368, Valid Profit=-367.6]\n",
      "Epoch  3: 100%|██████████| 297/297 [02:13<00:00,  2.22it/s, Train Loss=151.5737, Valid Loss=139.8360, Valid R2=0.4368, Valid MAE=6.9450, Valid Profit=-443.7]\n",
      "Epoch  4: 100%|██████████| 297/297 [02:13<00:00,  2.23it/s, Train Loss=138.4594, Valid Loss=129.5878, Valid R2=0.5260, Valid MAE=6.6556, Valid Profit=-479.7]\n",
      "Epoch  5: 100%|██████████| 297/297 [02:11<00:00,  2.26it/s, Train Loss=130.7039, Valid Loss=126.3288, Valid R2=0.5567, Valid MAE=6.5138, Valid Profit=-499.7]\n",
      "Epoch  6: 100%|██████████| 297/297 [02:09<00:00,  2.29it/s, Train Loss=124.0369, Valid Loss=115.4883, Valid R2=0.6202, Valid MAE=6.2055, Valid Profit=-549.8]\n",
      "Epoch  7: 100%|██████████| 297/297 [02:10<00:00,  2.28it/s, Train Loss=117.7476, Valid Loss=114.8551, Valid R2=0.5990, Valid MAE=6.2592, Valid Profit=-505.8]\n",
      "Epoch  8: 100%|██████████| 297/297 [02:09<00:00,  2.29it/s, Train Loss=112.8833, Valid Loss=105.7831, Valid R2=0.7023, Valid MAE=5.9189, Valid Profit=-549.5]\n",
      "Epoch  9: 100%|██████████| 297/297 [02:10<00:00,  2.28it/s, Train Loss=108.2531, Valid Loss=103.2723, Valid R2=0.7106, Valid MAE=5.8301, Valid Profit=-595.1]\n",
      "Epoch 10: 100%|██████████| 297/297 [02:09<00:00,  2.29it/s, Train Loss=103.1562, Valid Loss=101.7574, Valid R2=0.6998, Valid MAE=5.7534, Valid Profit=-659.1]\n",
      "Epoch 11: 100%|██████████| 297/297 [02:09<00:00,  2.29it/s, Train Loss=100.0233, Valid Loss=97.1875, Valid R2=0.7218, Valid MAE=5.5488, Valid Profit=-696.6]\n",
      "Epoch 12: 100%|██████████| 297/297 [02:11<00:00,  2.26it/s, Train Loss=97.4400, Valid Loss=92.6582, Valid R2=0.7494, Valid MAE=5.3986, Valid Profit=-687.5]\n",
      "Epoch 13: 100%|██████████| 297/297 [02:10<00:00,  2.27it/s, Train Loss=94.0222, Valid Loss=89.0911, Valid R2=0.7681, Valid MAE=5.3185, Valid Profit=-693.4]\n",
      "Epoch 14: 100%|██████████| 297/297 [02:09<00:00,  2.29it/s, Train Loss=90.6404, Valid Loss=86.5680, Valid R2=0.7776, Valid MAE=5.2128, Valid Profit=-730.3]\n",
      "Epoch 15: 100%|██████████| 297/297 [02:10<00:00,  2.28it/s, Train Loss=89.3800, Valid Loss=90.4325, Valid R2=0.7547, Valid MAE=5.2689, Valid Profit=-773.1]\n",
      "Epoch 16: 100%|██████████| 297/297 [02:09<00:00,  2.29it/s, Train Loss=87.5119, Valid Loss=83.3104, Valid R2=0.7882, Valid MAE=5.0633, Valid Profit=-754.4]\n",
      "Epoch 17: 100%|██████████| 297/297 [02:09<00:00,  2.29it/s, Train Loss=85.2746, Valid Loss=83.6143, Valid R2=0.7792, Valid MAE=5.0905, Valid Profit=-755.6]\n",
      "Epoch 18: 100%|██████████| 297/297 [02:08<00:00,  2.31it/s, Train Loss=83.9698, Valid Loss=81.6656, Valid R2=0.7925, Valid MAE=4.9677, Valid Profit=-773.6]\n",
      "Epoch 19: 100%|██████████| 297/297 [02:09<00:00,  2.30it/s, Train Loss=83.2815, Valid Loss=78.8202, Valid R2=0.8031, Valid MAE=4.9202, Valid Profit=-725.9]\n",
      "Epoch 20: 100%|██████████| 297/297 [02:08<00:00,  2.31it/s, Train Loss=80.2570, Valid Loss=77.8468, Valid R2=0.8044, Valid MAE=4.8741, Valid Profit=-793.7]\n",
      "Epoch 21: 100%|██████████| 297/297 [02:09<00:00,  2.30it/s, Train Loss=78.5181, Valid Loss=75.4776, Valid R2=0.8134, Valid MAE=4.7745, Valid Profit=-762.7]\n",
      "Epoch 22: 100%|██████████| 297/297 [02:08<00:00,  2.31it/s, Train Loss=76.9912, Valid Loss=73.0371, Valid R2=0.8136, Valid MAE=4.7107, Valid Profit=-780.9]\n",
      "Epoch 23: 100%|██████████| 297/297 [02:10<00:00,  2.27it/s, Train Loss=75.0369, Valid Loss=72.3536, Valid R2=0.8131, Valid MAE=4.7700, Valid Profit=-794.0]\n",
      "Epoch 24: 100%|██████████| 297/297 [02:09<00:00,  2.29it/s, Train Loss=73.5971, Valid Loss=70.4349, Valid R2=0.8147, Valid MAE=4.6489, Valid Profit=-813.3]\n",
      "Epoch 25: 100%|██████████| 297/297 [02:10<00:00,  2.28it/s, Train Loss=70.0861, Valid Loss=65.0342, Valid R2=0.8327, Valid MAE=4.5068, Valid Profit=-766.6]\n",
      "Epoch 26: 100%|██████████| 297/297 [02:09<00:00,  2.29it/s, Train Loss=67.3911, Valid Loss=65.2076, Valid R2=0.8320, Valid MAE=4.6168, Valid Profit=-815.0]\n",
      "Epoch 27: 100%|██████████| 297/297 [02:10<00:00,  2.28it/s, Train Loss=66.7289, Valid Loss=65.9002, Valid R2=0.7882, Valid MAE=4.7016, Valid Profit=-775.7]\n",
      "Epoch 28: 100%|██████████| 297/297 [02:09<00:00,  2.30it/s, Train Loss=64.4362, Valid Loss=61.8774, Valid R2=0.8383, Valid MAE=4.4854, Valid Profit=-776.5]\n",
      "Epoch 29: 100%|██████████| 297/297 [02:09<00:00,  2.30it/s, Train Loss=61.4250, Valid Loss=57.2201, Valid R2=0.8356, Valid MAE=4.2717, Valid Profit=-850.6]\n",
      "Epoch 30: 100%|██████████| 297/297 [02:08<00:00,  2.30it/s, Train Loss=61.2662, Valid Loss=56.9595, Valid R2=0.8513, Valid MAE=4.3379, Valid Profit=-787.4]\n",
      "Epoch 31: 100%|██████████| 297/297 [02:09<00:00,  2.30it/s, Train Loss=57.7046, Valid Loss=55.5436, Valid R2=0.8428, Valid MAE=4.2822, Valid Profit=-880.4]\n",
      "Epoch 32: 100%|██████████| 297/297 [02:09<00:00,  2.29it/s, Train Loss=55.4310, Valid Loss=51.6570, Valid R2=0.8510, Valid MAE=4.1789, Valid Profit=-865.0]\n",
      "Epoch 33: 100%|██████████| 297/297 [02:09<00:00,  2.29it/s, Train Loss=54.2538, Valid Loss=51.1231, Valid R2=0.8574, Valid MAE=4.0737, Valid Profit=-828.7]\n",
      "Epoch 34: 100%|██████████| 297/297 [02:09<00:00,  2.30it/s, Train Loss=52.9013, Valid Loss=53.0013, Valid R2=0.8546, Valid MAE=4.1323, Valid Profit=-852.5]\n",
      "Epoch 35: 100%|██████████| 297/297 [02:09<00:00,  2.30it/s, Train Loss=51.4196, Valid Loss=47.7667, Valid R2=0.8694, Valid MAE=3.9051, Valid Profit=-872.7]\n",
      "Epoch 36: 100%|██████████| 297/297 [02:08<00:00,  2.31it/s, Train Loss=49.5337, Valid Loss=47.9493, Valid R2=0.8695, Valid MAE=3.9828, Valid Profit=-903.5]\n",
      "Epoch 37: 100%|██████████| 297/297 [02:09<00:00,  2.30it/s, Train Loss=50.7775, Valid Loss=45.7657, Valid R2=0.8732, Valid MAE=3.8909, Valid Profit=-919.4]\n",
      "Epoch 38: 100%|██████████| 297/297 [02:26<00:00,  2.03it/s, Train Loss=48.9075, Valid Loss=53.7078, Valid R2=0.8305, Valid MAE=4.1301, Valid Profit=-887.4]\n",
      "Epoch 39: 100%|██████████| 297/297 [02:09<00:00,  2.29it/s, Train Loss=47.3168, Valid Loss=43.2789, Valid R2=0.8774, Valid MAE=3.7738, Valid Profit=-947.2]\n",
      "Epoch 40: 100%|██████████| 297/297 [02:09<00:00,  2.30it/s, Train Loss=44.9767, Valid Loss=43.8455, Valid R2=0.8729, Valid MAE=3.7743, Valid Profit=-913.9]\n",
      "Epoch 41: 100%|██████████| 297/297 [02:09<00:00,  2.29it/s, Train Loss=44.2755, Valid Loss=42.1204, Valid R2=0.8830, Valid MAE=3.7262, Valid Profit=-922.4]\n",
      "Epoch 42: 100%|██████████| 297/297 [02:09<00:00,  2.29it/s, Train Loss=43.6043, Valid Loss=40.6882, Valid R2=0.8890, Valid MAE=3.6505, Valid Profit=-942.8]\n",
      "Epoch 43: 100%|██████████| 297/297 [02:10<00:00,  2.27it/s, Train Loss=43.1047, Valid Loss=40.1764, Valid R2=0.8889, Valid MAE=3.6268, Valid Profit=-916.1]\n",
      "Epoch 44: 100%|██████████| 297/297 [02:11<00:00,  2.26it/s, Train Loss=44.4036, Valid Loss=39.5212, Valid R2=0.8909, Valid MAE=3.5533, Valid Profit=-946.5]\n",
      "Epoch 45: 100%|██████████| 297/297 [02:10<00:00,  2.27it/s, Train Loss=41.2229, Valid Loss=38.5654, Valid R2=0.8942, Valid MAE=3.5309, Valid Profit=-964.8]\n",
      "Epoch 46: 100%|██████████| 297/297 [02:10<00:00,  2.28it/s, Train Loss=40.5714, Valid Loss=38.7274, Valid R2=0.8919, Valid MAE=3.5736, Valid Profit=-980.8]\n",
      "Epoch 47: 100%|██████████| 297/297 [02:10<00:00,  2.28it/s, Train Loss=39.9557, Valid Loss=38.9468, Valid R2=0.8906, Valid MAE=3.5912, Valid Profit=-998.0]\n",
      "Epoch 48: 100%|██████████| 297/297 [02:10<00:00,  2.28it/s, Train Loss=40.2772, Valid Loss=37.1152, Valid R2=0.8965, Valid MAE=3.4446, Valid Profit=-1014.8]\n",
      "Epoch 49: 100%|██████████| 297/297 [02:09<00:00,  2.29it/s, Train Loss=39.0008, Valid Loss=36.5776, Valid R2=0.8977, Valid MAE=3.4688, Valid Profit=-999.7]\n",
      "Epoch 50: 100%|██████████| 297/297 [02:09<00:00,  2.30it/s, Train Loss=38.6800, Valid Loss=37.6743, Valid R2=0.8933, Valid MAE=3.4852, Valid Profit=-1016.0]\n",
      "Epoch 51: 100%|██████████| 297/297 [02:09<00:00,  2.29it/s, Train Loss=38.1030, Valid Loss=35.9629, Valid R2=0.9003, Valid MAE=3.4153, Valid Profit=-1021.6]\n",
      "Epoch 52: 100%|██████████| 297/297 [02:08<00:00,  2.30it/s, Train Loss=38.5868, Valid Loss=38.7606, Valid R2=0.8952, Valid MAE=3.5244, Valid Profit=-896.7]\n",
      "Epoch 53: 100%|██████████| 297/297 [02:09<00:00,  2.29it/s, Train Loss=39.8119, Valid Loss=36.0016, Valid R2=0.8999, Valid MAE=3.4031, Valid Profit=-1005.2]\n",
      "Epoch 54: 100%|██████████| 297/297 [02:09<00:00,  2.30it/s, Train Loss=37.5880, Valid Loss=34.3595, Valid R2=0.9042, Valid MAE=3.3130, Valid Profit=-1049.1]\n",
      "Epoch 55: 100%|██████████| 297/297 [02:09<00:00,  2.29it/s, Train Loss=36.4982, Valid Loss=35.7743, Valid R2=0.8991, Valid MAE=3.3649, Valid Profit=-1050.4]\n",
      "Epoch 56: 100%|██████████| 297/297 [02:08<00:00,  2.30it/s, Train Loss=36.1474, Valid Loss=34.9084, Valid R2=0.9042, Valid MAE=3.3349, Valid Profit=-970.3]\n",
      "Epoch 57: 100%|██████████| 297/297 [02:09<00:00,  2.29it/s, Train Loss=36.0085, Valid Loss=34.4629, Valid R2=0.9053, Valid MAE=3.2969, Valid Profit=-1048.7]\n",
      "Epoch 58: 100%|██████████| 297/297 [02:36<00:00,  1.89it/s, Train Loss=39.4853, Valid Loss=34.3076, Valid R2=0.9056, Valid MAE=3.3231, Valid Profit=-1027.7]\n",
      "Epoch 59: 100%|██████████| 297/297 [02:10<00:00,  2.28it/s, Train Loss=35.1593, Valid Loss=32.8375, Valid R2=0.9098, Valid MAE=3.2312, Valid Profit=-1047.1]\n",
      "Epoch 60: 100%|██████████| 297/297 [02:09<00:00,  2.30it/s, Train Loss=34.9622, Valid Loss=32.6219, Valid R2=0.9109, Valid MAE=3.2110, Valid Profit=-1054.9]\n",
      "Epoch 61: 100%|██████████| 297/297 [02:09<00:00,  2.29it/s, Train Loss=35.1459, Valid Loss=34.5871, Valid R2=0.9058, Valid MAE=3.2692, Valid Profit=-1007.4]\n",
      "Epoch 62: 100%|██████████| 297/297 [02:09<00:00,  2.30it/s, Train Loss=34.9739, Valid Loss=34.9723, Valid R2=0.9015, Valid MAE=3.3530, Valid Profit=-1047.4]\n",
      "Epoch 63: 100%|██████████| 297/297 [02:10<00:00,  2.28it/s, Train Loss=34.8175, Valid Loss=34.1874, Valid R2=0.9044, Valid MAE=3.2702, Valid Profit=-1056.6]\n",
      "Epoch 64: 100%|██████████| 297/297 [02:10<00:00,  2.28it/s, Train Loss=34.2442, Valid Loss=33.3243, Valid R2=0.9094, Valid MAE=3.2160, Valid Profit=-1046.0]\n",
      "Epoch 65: 100%|██████████| 297/297 [02:13<00:00,  2.23it/s, Train Loss=33.9327, Valid Loss=33.0727, Valid R2=0.9075, Valid MAE=3.2630, Valid Profit=-1040.5]\n",
      "Epoch 66: 100%|██████████| 297/297 [02:10<00:00,  2.28it/s, Train Loss=33.6290, Valid Loss=31.7986, Valid R2=0.9125, Valid MAE=3.1849, Valid Profit=-1055.6]\n",
      "Epoch 67: 100%|██████████| 297/297 [02:10<00:00,  2.28it/s, Train Loss=33.7868, Valid Loss=32.0763, Valid R2=0.9133, Valid MAE=3.1934, Valid Profit=-1024.9]\n",
      "Epoch 68: 100%|██████████| 297/297 [02:09<00:00,  2.29it/s, Train Loss=33.4848, Valid Loss=31.5941, Valid R2=0.9142, Valid MAE=3.1829, Valid Profit=-1057.8]\n",
      "Epoch 69: 100%|██████████| 297/297 [02:10<00:00,  2.28it/s, Train Loss=32.9976, Valid Loss=31.4574, Valid R2=0.9137, Valid MAE=3.1478, Valid Profit=-1048.6]\n",
      "Epoch 70: 100%|██████████| 297/297 [02:09<00:00,  2.29it/s, Train Loss=33.1510, Valid Loss=31.2385, Valid R2=0.9127, Valid MAE=3.1316, Valid Profit=-1071.7]\n",
      "Epoch 71: 100%|██████████| 297/297 [02:09<00:00,  2.29it/s, Train Loss=38.7330, Valid Loss=40.0828, Valid R2=0.8647, Valid MAE=3.5761, Valid Profit=-1023.6]\n",
      "Epoch 72: 100%|██████████| 297/297 [02:09<00:00,  2.30it/s, Train Loss=33.9865, Valid Loss=30.6472, Valid R2=0.9144, Valid MAE=3.1307, Valid Profit=-1092.0]\n",
      "Epoch 73: 100%|██████████| 297/297 [02:09<00:00,  2.29it/s, Train Loss=34.9125, Valid Loss=42.5790, Valid R2=0.8645, Valid MAE=3.6482, Valid Profit=-896.2]\n",
      "Epoch 74: 100%|██████████| 297/297 [02:09<00:00,  2.29it/s, Train Loss=35.5333, Valid Loss=32.2013, Valid R2=0.9072, Valid MAE=3.2160, Valid Profit=-1070.6]\n",
      "Epoch 75: 100%|██████████| 297/297 [02:12<00:00,  2.24it/s, Train Loss=37.4766, Valid Loss=30.7576, Valid R2=0.9157, Valid MAE=3.1075, Valid Profit=-1059.2]\n",
      "Epoch 76: 100%|██████████| 297/297 [02:10<00:00,  2.28it/s, Train Loss=31.4783, Valid Loss=30.0110, Valid R2=0.9178, Valid MAE=3.0590, Valid Profit=-1097.6]\n",
      "Epoch 77: 100%|██████████| 297/297 [02:10<00:00,  2.27it/s, Train Loss=31.3015, Valid Loss=30.3103, Valid R2=0.9174, Valid MAE=3.1042, Valid Profit=-1084.8]\n",
      "Epoch 78: 100%|██████████| 297/297 [02:10<00:00,  2.28it/s, Train Loss=31.2871, Valid Loss=31.1064, Valid R2=0.9144, Valid MAE=3.1431, Valid Profit=-1067.8]\n",
      "Epoch 79: 100%|██████████| 297/297 [02:10<00:00,  2.28it/s, Train Loss=31.8196, Valid Loss=33.2308, Valid R2=0.9090, Valid MAE=3.1907, Valid Profit=-1034.2]\n",
      "Epoch 80: 100%|██████████| 297/297 [02:09<00:00,  2.30it/s, Train Loss=31.4668, Valid Loss=30.2238, Valid R2=0.9176, Valid MAE=3.1044, Valid Profit=-1093.9]\n",
      "Epoch 81: 100%|██████████| 297/297 [02:11<00:00,  2.25it/s, Train Loss=30.9067, Valid Loss=29.0691, Valid R2=0.9202, Valid MAE=3.0337, Valid Profit=-1089.3]\n",
      "Epoch 82: 100%|██████████| 297/297 [02:09<00:00,  2.29it/s, Train Loss=31.0371, Valid Loss=30.0276, Valid R2=0.9177, Valid MAE=3.0872, Valid Profit=-1084.2]\n",
      "Epoch 83: 100%|██████████| 297/297 [02:10<00:00,  2.28it/s, Train Loss=30.9353, Valid Loss=29.3031, Valid R2=0.9205, Valid MAE=3.0343, Valid Profit=-1102.8]\n",
      "Epoch 84: 100%|██████████| 297/297 [02:10<00:00,  2.28it/s, Train Loss=30.9129, Valid Loss=29.4928, Valid R2=0.9200, Valid MAE=3.0557, Valid Profit=-1094.1]\n",
      "Epoch 85: 100%|██████████| 297/297 [02:10<00:00,  2.28it/s, Train Loss=30.6010, Valid Loss=30.3495, Valid R2=0.9189, Valid MAE=3.1059, Valid Profit=-1093.3]\n",
      "Epoch 86: 100%|██████████| 297/297 [02:09<00:00,  2.29it/s, Train Loss=30.6377, Valid Loss=28.9490, Valid R2=0.9200, Valid MAE=3.0184, Valid Profit=-1074.9]\n",
      "Epoch 87: 100%|██████████| 297/297 [02:09<00:00,  2.29it/s, Train Loss=30.6212, Valid Loss=29.3188, Valid R2=0.9213, Valid MAE=3.0249, Valid Profit=-1054.3]\n",
      "Epoch 88: 100%|██████████| 297/297 [02:09<00:00,  2.30it/s, Train Loss=30.0918, Valid Loss=28.7871, Valid R2=0.9220, Valid MAE=3.0048, Valid Profit=-1111.2]\n",
      "Epoch 89: 100%|██████████| 297/297 [02:09<00:00,  2.30it/s, Train Loss=30.0508, Valid Loss=28.7374, Valid R2=0.9220, Valid MAE=3.0070, Valid Profit=-1082.9]\n",
      "Epoch 90: 100%|██████████| 297/297 [02:09<00:00,  2.30it/s, Train Loss=32.3726, Valid Loss=30.1037, Valid R2=0.9184, Valid MAE=3.0842, Valid Profit=-1084.4]\n",
      "Epoch 91: 100%|██████████| 297/297 [02:09<00:00,  2.29it/s, Train Loss=30.0888, Valid Loss=28.4407, Valid R2=0.9233, Valid MAE=2.9852, Valid Profit=-1099.3]\n",
      "Epoch 92: 100%|██████████| 297/297 [02:09<00:00,  2.30it/s, Train Loss=29.5844, Valid Loss=29.7114, Valid R2=0.9185, Valid MAE=3.0860, Valid Profit=-1084.7]\n",
      "Epoch 93: 100%|██████████| 297/297 [02:10<00:00,  2.28it/s, Train Loss=29.5706, Valid Loss=28.4358, Valid R2=0.9228, Valid MAE=2.9983, Valid Profit=-1105.5]\n",
      "Epoch 94: 100%|██████████| 297/297 [02:10<00:00,  2.28it/s, Train Loss=29.9410, Valid Loss=28.1947, Valid R2=0.9245, Valid MAE=2.9696, Valid Profit=-1077.1]\n",
      "Epoch 95: 100%|██████████| 297/297 [02:10<00:00,  2.28it/s, Train Loss=29.1901, Valid Loss=29.6950, Valid R2=0.9201, Valid MAE=3.0874, Valid Profit=-1082.3]\n",
      "Epoch 96: 100%|██████████| 297/297 [02:09<00:00,  2.29it/s, Train Loss=29.4174, Valid Loss=27.7460, Valid R2=0.9253, Valid MAE=2.9812, Valid Profit=-1106.7]\n",
      "Epoch 97: 100%|██████████| 297/297 [02:10<00:00,  2.28it/s, Train Loss=29.1600, Valid Loss=29.0974, Valid R2=0.9221, Valid MAE=2.9812, Valid Profit=-1107.3]\n",
      "Epoch 98: 100%|██████████| 297/297 [02:09<00:00,  2.29it/s, Train Loss=29.6284, Valid Loss=28.3230, Valid R2=0.9230, Valid MAE=3.0058, Valid Profit=-1107.8]\n",
      "Epoch 99: 100%|██████████| 297/297 [02:09<00:00,  2.29it/s, Train Loss=28.7244, Valid Loss=27.9104, Valid R2=0.9242, Valid MAE=2.9907, Valid Profit=-1106.5]"
     ]
    },
    {
     "name": "stdout",
     "output_type": "stream",
     "text": [
      "Early Stopped\n"
     ]
    },
    {
     "name": "stderr",
     "output_type": "stream",
     "text": [
      "\n"
     ]
    }
   ],
   "source": [
    "best_model = trainer.train(model, optimizer, train_loader, val_loader, patience=10, epochs=100)"
   ]
  },
  {
   "cell_type": "code",
   "execution_count": 7,
   "metadata": {},
   "outputs": [
    {
     "name": "stdout",
     "output_type": "stream",
     "text": [
      "Test Loss: 109.2573 | Test R2: 0.7437 | Test MAE: 5.6793 | Test Profit: -532.9\n"
     ]
    }
   ],
   "source": [
    "trainer.test(test_loader)"
   ]
  }
 ],
 "metadata": {
  "kernelspec": {
   "display_name": "torch",
   "language": "python",
   "name": "python3"
  },
  "language_info": {
   "codemirror_mode": {
    "name": "ipython",
    "version": 3
   },
   "file_extension": ".py",
   "mimetype": "text/x-python",
   "name": "python",
   "nbconvert_exporter": "python",
   "pygments_lexer": "ipython3",
   "version": "3.11.5"
  }
 },
 "nbformat": 4,
 "nbformat_minor": 2
}
