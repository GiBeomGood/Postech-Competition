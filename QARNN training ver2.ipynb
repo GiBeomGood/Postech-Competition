{
 "cells": [
  {
   "cell_type": "code",
   "execution_count": 1,
   "metadata": {},
   "outputs": [],
   "source": [
    "import torch\n",
    "from torch import nn, FloatTensor\n",
    "from tools.DARNN import QARNN\n",
    "from torch.utils.data import Dataset,ConcatDataset, DataLoader\n",
    "\n",
    "import pandas as pd\n",
    "import numpy as np\n",
    "from numpy import concatenate as np_cat\n",
    "from sklearn.preprocessing import MinMaxScaler\n",
    "\n",
    "from tqdm import trange\n",
    "from tools.DarnnTrainingTools import Trainer\n",
    "device = torch.device('cuda')"
   ]
  },
  {
   "cell_type": "code",
   "execution_count": 2,
   "metadata": {},
   "outputs": [],
   "source": [
    "data = pd.read_parquet('data/all_data.parquet', engine='pyarrow')\n",
    "temp = pd.read_csv('data/weather_actual.csv')\n",
    "data = pd.concat([data, temp.iloc[:, 1:]], axis=1)\n",
    "del temp\n",
    "\n",
    "data = data.drop(columns=['time']).values"
   ]
  },
  {
   "cell_type": "code",
   "execution_count": 3,
   "metadata": {},
   "outputs": [],
   "source": [
    "class CustomDataset(Dataset):\n",
    "    def __init__(self, data: np.ndarray, T=72, P=48):\n",
    "        super().__init__()\n",
    "\n",
    "        self.x1 = []; x1_append = self.x1.append\n",
    "        self.x2 = []; x2_append = self.x2.append\n",
    "        self.y = []; y_append = self.y.append\n",
    "        self.length = data.shape[0] - T - P + 1\n",
    "\n",
    "        for i in trange(self.length):\n",
    "            x1 = data[i:i+T, -13:]  # actual weather\n",
    "            x1 = np_cat([x1, data[i+T:i+T+P, 1:14]], axis=0)  # actual & forecasted weather\n",
    "            x1 = np_cat([x1, data[i:i+T+P, 14:19]], axis=1)  # forecasted gens\n",
    "            x1_append(FloatTensor(x1))\n",
    "            \n",
    "            x2_append(FloatTensor(data[i:i+T, 0].reshape(T, 1)))\n",
    "            y_append(FloatTensor(data[i+T:i+T+P, 0]))\n",
    "\n",
    "\n",
    "    def __len__(self):\n",
    "        return self.length\n",
    "\n",
    "\n",
    "    def __getitem__(self, index):\n",
    "        return self.x1[index], self.x2[index], self.y[index]"
   ]
  },
  {
   "cell_type": "code",
   "execution_count": 4,
   "metadata": {},
   "outputs": [
    {
     "name": "stderr",
     "output_type": "stream",
     "text": [
      "100%|██████████| 10033/10033 [00:00<00:00, 32328.67it/s]\n",
      "100%|██████████| 601/601 [00:00<00:00, 33489.79it/s]\n",
      "100%|██████████| 625/625 [00:00<00:00, 7831.04it/s]\n"
     ]
    }
   ],
   "source": [
    "train_set = CustomDataset(data[:24*423])\n",
    "train_loader = DataLoader(train_set, batch_size=32, shuffle=True)\n",
    "\n",
    "val_set = CustomDataset(data[24*423:24*453])\n",
    "val_loader = DataLoader(train_set, batch_size=512, shuffle=False)\n",
    "\n",
    "test_set = CustomDataset(data[24*453:24*484])\n",
    "test_loader = DataLoader(test_set, batch_size=512, shuffle=False)"
   ]
  },
  {
   "cell_type": "code",
   "execution_count": 5,
   "metadata": {},
   "outputs": [],
   "source": [
    "criterion = nn.MSELoss()\n",
    "model = QARNN(72, 48, 18, 32, 32).to(device)\n",
    "optimizer = torch.optim.Adam(model.parameters(), lr=1e-3)\n",
    "\n",
    "trainer = Trainer(criterion, device, 'checkpoints/qarnn_best_ver2.pt')"
   ]
  },
  {
   "cell_type": "code",
   "execution_count": 6,
   "metadata": {},
   "outputs": [
    {
     "name": "stderr",
     "output_type": "stream",
     "text": [
      "Epoch   0: 100%|██████████| 314/314 [02:18<00:00,  2.27it/s, Train Loss=649.9057, Valid Loss=453.4092, Valid R2=-0.0378, Valid MAE=15.8626, Valid Profit=206.9]\n",
      "Epoch   1: 100%|██████████| 314/314 [02:18<00:00,  2.28it/s, Train Loss=304.2627, Valid Loss=201.5162, Valid R2=0.4143, Valid MAE=9.5060, Valid Profit=338.3]\n",
      "Epoch   2: 100%|██████████| 314/314 [02:18<00:00,  2.27it/s, Train Loss=172.0657, Valid Loss=140.6944, Valid R2=0.5513, Valid MAE=6.9523, Valid Profit=373.7]\n",
      "Epoch   3: 100%|██████████| 314/314 [02:18<00:00,  2.27it/s, Train Loss=133.5508, Valid Loss=124.0688, Valid R2=0.5708, Valid MAE=6.5613, Valid Profit=479.9]\n",
      "Epoch   4: 100%|██████████| 314/314 [02:17<00:00,  2.28it/s, Train Loss=124.4883, Valid Loss=119.6166, Valid R2=0.6270, Valid MAE=6.3609, Valid Profit=452.6]\n",
      "Epoch   5: 100%|██████████| 314/314 [02:17<00:00,  2.28it/s, Train Loss=118.2250, Valid Loss=111.8273, Valid R2=0.6630, Valid MAE=6.0693, Valid Profit=535.1]\n",
      "Epoch   6: 100%|██████████| 314/314 [02:17<00:00,  2.28it/s, Train Loss=112.3722, Valid Loss=105.8806, Valid R2=0.6989, Valid MAE=5.8910, Valid Profit=529.7]\n",
      "Epoch   7: 100%|██████████| 314/314 [02:18<00:00,  2.27it/s, Train Loss=106.6711, Valid Loss=100.5420, Valid R2=0.7127, Valid MAE=5.7108, Valid Profit=610.5]\n",
      "Epoch   8: 100%|██████████| 314/314 [02:17<00:00,  2.28it/s, Train Loss=103.1232, Valid Loss=101.4743, Valid R2=0.7391, Valid MAE=5.7693, Valid Profit=539.9]\n",
      "Epoch   9: 100%|██████████| 314/314 [02:16<00:00,  2.29it/s, Train Loss=99.3072, Valid Loss=97.2510, Valid R2=0.7338, Valid MAE=5.5524, Valid Profit=674.1]\n",
      "Epoch  10: 100%|██████████| 314/314 [02:17<00:00,  2.29it/s, Train Loss=96.7312, Valid Loss=103.2704, Valid R2=0.6934, Valid MAE=5.9110, Valid Profit=666.7]\n",
      "Epoch  11: 100%|██████████| 314/314 [02:20<00:00,  2.24it/s, Train Loss=95.0448, Valid Loss=96.4935, Valid R2=0.7152, Valid MAE=5.5006, Valid Profit=683.0]\n",
      "Epoch  12: 100%|██████████| 314/314 [02:19<00:00,  2.25it/s, Train Loss=91.3845, Valid Loss=86.9084, Valid R2=0.7779, Valid MAE=5.1956, Valid Profit=637.6]\n",
      "Epoch  13: 100%|██████████| 314/314 [02:17<00:00,  2.28it/s, Train Loss=89.5124, Valid Loss=88.2037, Valid R2=0.7631, Valid MAE=5.2252, Valid Profit=734.0]\n",
      "Epoch  14: 100%|██████████| 314/314 [02:17<00:00,  2.29it/s, Train Loss=87.6975, Valid Loss=87.2408, Valid R2=0.7865, Valid MAE=5.2068, Valid Profit=702.4]\n",
      "Epoch  15: 100%|██████████| 314/314 [02:19<00:00,  2.25it/s, Train Loss=85.8855, Valid Loss=86.0907, Valid R2=0.7752, Valid MAE=5.1439, Valid Profit=737.3]\n",
      "Epoch  16: 100%|██████████| 314/314 [02:20<00:00,  2.23it/s, Train Loss=85.1225, Valid Loss=86.5163, Valid R2=0.7488, Valid MAE=5.1623, Valid Profit=725.3]\n",
      "Epoch  17: 100%|██████████| 314/314 [02:20<00:00,  2.24it/s, Train Loss=81.5871, Valid Loss=76.8841, Valid R2=0.8154, Valid MAE=4.8430, Valid Profit=729.8]\n",
      "Epoch  18: 100%|██████████| 314/314 [02:17<00:00,  2.28it/s, Train Loss=79.3533, Valid Loss=77.5666, Valid R2=0.8033, Valid MAE=4.9166, Valid Profit=751.2]\n",
      "Epoch  19: 100%|██████████| 314/314 [02:17<00:00,  2.28it/s, Train Loss=77.6006, Valid Loss=73.5364, Valid R2=0.8210, Valid MAE=4.7331, Valid Profit=767.3]\n",
      "Epoch  20: 100%|██████████| 314/314 [02:17<00:00,  2.28it/s, Train Loss=77.4147, Valid Loss=71.8617, Valid R2=0.8278, Valid MAE=4.6968, Valid Profit=734.9]\n",
      "Epoch  21: 100%|██████████| 314/314 [02:17<00:00,  2.28it/s, Train Loss=73.6757, Valid Loss=71.1142, Valid R2=0.8183, Valid MAE=4.7447, Valid Profit=775.6]\n",
      "Epoch  22: 100%|██████████| 314/314 [02:16<00:00,  2.29it/s, Train Loss=71.8185, Valid Loss=69.9608, Valid R2=0.8261, Valid MAE=4.6590, Valid Profit=839.3]\n",
      "Epoch  23: 100%|██████████| 314/314 [02:16<00:00,  2.30it/s, Train Loss=70.2170, Valid Loss=66.0338, Valid R2=0.8380, Valid MAE=4.5498, Valid Profit=742.1]\n",
      "Epoch  24: 100%|██████████| 314/314 [02:16<00:00,  2.30it/s, Train Loss=67.8302, Valid Loss=65.4342, Valid R2=0.8353, Valid MAE=4.5077, Valid Profit=854.2]\n",
      "Epoch  25: 100%|██████████| 314/314 [02:16<00:00,  2.29it/s, Train Loss=66.3359, Valid Loss=63.1400, Valid R2=0.8451, Valid MAE=4.4442, Valid Profit=754.7]\n",
      "Epoch  26: 100%|██████████| 314/314 [02:16<00:00,  2.30it/s, Train Loss=63.9604, Valid Loss=59.5078, Valid R2=0.8501, Valid MAE=4.3323, Valid Profit=840.1]\n",
      "Epoch  27: 100%|██████████| 314/314 [02:16<00:00,  2.30it/s, Train Loss=61.5014, Valid Loss=58.2974, Valid R2=0.8454, Valid MAE=4.2917, Valid Profit=838.7]\n",
      "Epoch  28: 100%|██████████| 314/314 [02:16<00:00,  2.30it/s, Train Loss=59.4631, Valid Loss=56.5921, Valid R2=0.8575, Valid MAE=4.2369, Valid Profit=845.8]\n",
      "Epoch  29: 100%|██████████| 314/314 [02:16<00:00,  2.30it/s, Train Loss=58.7122, Valid Loss=58.3449, Valid R2=0.8482, Valid MAE=4.3062, Valid Profit=772.5]\n",
      "Epoch  30: 100%|██████████| 314/314 [02:55<00:00,  1.79it/s, Train Loss=55.2581, Valid Loss=51.0023, Valid R2=0.8684, Valid MAE=4.0327, Valid Profit=897.6]\n",
      "Epoch  31: 100%|██████████| 314/314 [02:17<00:00,  2.28it/s, Train Loss=53.3076, Valid Loss=51.0811, Valid R2=0.8668, Valid MAE=4.0688, Valid Profit=878.1]\n",
      "Epoch  32: 100%|██████████| 314/314 [02:16<00:00,  2.29it/s, Train Loss=52.7682, Valid Loss=50.9803, Valid R2=0.8664, Valid MAE=4.0470, Valid Profit=846.0]\n",
      "Epoch  33: 100%|██████████| 314/314 [02:17<00:00,  2.29it/s, Train Loss=50.6898, Valid Loss=50.3777, Valid R2=0.8659, Valid MAE=4.0434, Valid Profit=918.4]\n",
      "Epoch  34: 100%|██████████| 314/314 [02:16<00:00,  2.29it/s, Train Loss=48.6936, Valid Loss=45.5783, Valid R2=0.8831, Valid MAE=3.8444, Valid Profit=896.0]\n",
      "Epoch  35: 100%|██████████| 314/314 [02:16<00:00,  2.30it/s, Train Loss=47.0622, Valid Loss=45.1831, Valid R2=0.8800, Valid MAE=3.8421, Valid Profit=933.5]\n",
      "Epoch  36: 100%|██████████| 314/314 [02:17<00:00,  2.29it/s, Train Loss=46.5642, Valid Loss=44.1582, Valid R2=0.8804, Valid MAE=3.7813, Valid Profit=889.6]\n",
      "Epoch  37: 100%|██████████| 314/314 [02:16<00:00,  2.30it/s, Train Loss=44.5873, Valid Loss=42.8683, Valid R2=0.8903, Valid MAE=3.7277, Valid Profit=988.3]\n",
      "Epoch  38: 100%|██████████| 314/314 [02:16<00:00,  2.30it/s, Train Loss=44.0053, Valid Loss=42.2176, Valid R2=0.8907, Valid MAE=3.6582, Valid Profit=965.9]\n",
      "Epoch  39: 100%|██████████| 314/314 [02:16<00:00,  2.30it/s, Train Loss=42.8058, Valid Loss=39.1523, Valid R2=0.8957, Valid MAE=3.5669, Valid Profit=994.0]\n",
      "Epoch  40: 100%|██████████| 314/314 [02:16<00:00,  2.30it/s, Train Loss=41.5178, Valid Loss=38.9950, Valid R2=0.8978, Valid MAE=3.5675, Valid Profit=972.7]\n",
      "Epoch  41: 100%|██████████| 314/314 [02:16<00:00,  2.30it/s, Train Loss=40.6421, Valid Loss=39.2787, Valid R2=0.8967, Valid MAE=3.6046, Valid Profit=1007.7]\n",
      "Epoch  42: 100%|██████████| 314/314 [02:16<00:00,  2.30it/s, Train Loss=40.4171, Valid Loss=39.3152, Valid R2=0.8977, Valid MAE=3.5889, Valid Profit=943.6]\n",
      "Epoch  43: 100%|██████████| 314/314 [02:16<00:00,  2.30it/s, Train Loss=39.5199, Valid Loss=37.2347, Valid R2=0.9013, Valid MAE=3.4626, Valid Profit=980.8]\n",
      "Epoch  44: 100%|██████████| 314/314 [02:16<00:00,  2.30it/s, Train Loss=42.3167, Valid Loss=38.7636, Valid R2=0.8990, Valid MAE=3.5825, Valid Profit=941.7]\n",
      "Epoch  45: 100%|██████████| 314/314 [02:16<00:00,  2.30it/s, Train Loss=39.4616, Valid Loss=40.0103, Valid R2=0.8901, Valid MAE=3.5457, Valid Profit=887.7]\n",
      "Epoch  46: 100%|██████████| 314/314 [02:16<00:00,  2.30it/s, Train Loss=37.7758, Valid Loss=37.7822, Valid R2=0.8938, Valid MAE=3.5077, Valid Profit=1026.4]\n",
      "Epoch  47: 100%|██████████| 314/314 [02:16<00:00,  2.29it/s, Train Loss=38.4933, Valid Loss=38.1074, Valid R2=0.8978, Valid MAE=3.4919, Valid Profit=1021.0]\n",
      "Epoch  48: 100%|██████████| 314/314 [02:16<00:00,  2.30it/s, Train Loss=37.5418, Valid Loss=37.1141, Valid R2=0.9015, Valid MAE=3.4079, Valid Profit=1003.1]\n",
      "Epoch  49: 100%|██████████| 314/314 [03:25<00:00,  1.53it/s, Train Loss=36.4315, Valid Loss=35.4569, Valid R2=0.9093, Valid MAE=3.3555, Valid Profit=1025.0]\n",
      "Epoch  50: 100%|██████████| 314/314 [02:16<00:00,  2.30it/s, Train Loss=35.9118, Valid Loss=34.2562, Valid R2=0.9079, Valid MAE=3.2843, Valid Profit=1025.7]\n",
      "Epoch  51: 100%|██████████| 314/314 [02:16<00:00,  2.30it/s, Train Loss=35.4312, Valid Loss=34.2570, Valid R2=0.9091, Valid MAE=3.2854, Valid Profit=1036.2]\n",
      "Epoch  52: 100%|██████████| 314/314 [02:16<00:00,  2.30it/s, Train Loss=35.2348, Valid Loss=34.9904, Valid R2=0.9089, Valid MAE=3.3316, Valid Profit=960.4]\n",
      "Epoch  53: 100%|██████████| 314/314 [02:16<00:00,  2.30it/s, Train Loss=34.4520, Valid Loss=33.0797, Valid R2=0.9121, Valid MAE=3.2266, Valid Profit=1043.3]\n",
      "Epoch  54: 100%|██████████| 314/314 [02:16<00:00,  2.30it/s, Train Loss=35.0894, Valid Loss=34.0698, Valid R2=0.9080, Valid MAE=3.2925, Valid Profit=1073.6]\n",
      "Epoch  55: 100%|██████████| 314/314 [02:16<00:00,  2.30it/s, Train Loss=34.8786, Valid Loss=34.7588, Valid R2=0.9089, Valid MAE=3.3003, Valid Profit=996.3]\n",
      "Epoch  56: 100%|██████████| 314/314 [02:16<00:00,  2.30it/s, Train Loss=35.0405, Valid Loss=33.1864, Valid R2=0.9117, Valid MAE=3.2234, Valid Profit=1023.6]\n",
      "Epoch  57: 100%|██████████| 314/314 [02:17<00:00,  2.29it/s, Train Loss=34.0903, Valid Loss=32.9824, Valid R2=0.9120, Valid MAE=3.2377, Valid Profit=1084.2]\n",
      "Epoch  58: 100%|██████████| 314/314 [02:16<00:00,  2.30it/s, Train Loss=33.5217, Valid Loss=32.2457, Valid R2=0.9126, Valid MAE=3.2004, Valid Profit=1072.5]\n",
      "Epoch  59: 100%|██████████| 314/314 [02:16<00:00,  2.29it/s, Train Loss=33.2494, Valid Loss=34.2866, Valid R2=0.9079, Valid MAE=3.2672, Valid Profit=1037.6]\n",
      "Epoch  60: 100%|██████████| 314/314 [02:16<00:00,  2.30it/s, Train Loss=34.1106, Valid Loss=32.4775, Valid R2=0.9137, Valid MAE=3.1934, Valid Profit=1002.3]\n",
      "Epoch  61: 100%|██████████| 314/314 [02:16<00:00,  2.30it/s, Train Loss=33.0646, Valid Loss=33.7458, Valid R2=0.9108, Valid MAE=3.2453, Valid Profit=1035.9]\n",
      "Epoch  62: 100%|██████████| 314/314 [04:08<00:00,  1.26it/s, Train Loss=32.8087, Valid Loss=32.8612, Valid R2=0.9125, Valid MAE=3.2226, Valid Profit=1074.4]\n",
      "Epoch  63: 100%|██████████| 314/314 [02:17<00:00,  2.29it/s, Train Loss=32.5422, Valid Loss=31.0575, Valid R2=0.9183, Valid MAE=3.1025, Valid Profit=1064.5]"
     ]
    },
    {
     "name": "stdout",
     "output_type": "stream",
     "text": [
      "Early Stopped\n"
     ]
    },
    {
     "name": "stderr",
     "output_type": "stream",
     "text": [
      "\n"
     ]
    }
   ],
   "source": [
    "best_model = trainer.train(model, optimizer, train_loader, val_loader, patience=5, epochs=200)"
   ]
  },
  {
   "cell_type": "code",
   "execution_count": 7,
   "metadata": {},
   "outputs": [
    {
     "name": "stdout",
     "output_type": "stream",
     "text": [
      "Test Loss: 122.5056 | Test R2: 0.7160 | Test MAE: 6.0756 | Test Profit: 540.5\n"
     ]
    }
   ],
   "source": [
    "trainer.test(test_loader)"
   ]
  }
 ],
 "metadata": {
  "kernelspec": {
   "display_name": "torch",
   "language": "python",
   "name": "python3"
  },
  "language_info": {
   "codemirror_mode": {
    "name": "ipython",
    "version": 3
   },
   "file_extension": ".py",
   "mimetype": "text/x-python",
   "name": "python",
   "nbconvert_exporter": "python",
   "pygments_lexer": "ipython3",
   "version": "3.11.5"
  }
 },
 "nbformat": 4,
 "nbformat_minor": 2
}
